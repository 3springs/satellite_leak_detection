{
 "cells": [
  {
   "cell_type": "markdown",
   "metadata": {},
   "source": [
    "This notebook scrapes satellite images for each leak repair. For each location it gets a NxM rectangle around the leak before and after it was repaired. Then it collated all the data into h5 files and all the metadata into json files.\n",
    "\n",
    "It takes days to run because of rate limiting on the google earth api. Because of limited satelite coverage you might find matches for only 10% of the leaks.\n",
    "\n",
    "## Modifying\n",
    "\n",
    "- make sure google earth is setup\n",
    "- load leaks, so they pass the asserts\n",
    "- change params\n",
    "- run rest of cells"
   ]
  },
  {
   "cell_type": "code",
   "execution_count": 1,
   "metadata": {
    "ExecuteTime": {
     "end_time": "2017-04-26T02:36:48.755721Z",
     "start_time": "2017-04-26T10:36:47.857669+08:00"
    }
   },
   "outputs": [
    {
     "data": {
      "text/plain": [
       "'%.4f'"
      ]
     },
     "execution_count": 1,
     "metadata": {},
     "output_type": "execute_result"
    }
   ],
   "source": [
    "from path import Path\n",
    "import arrow\n",
    "import json\n",
    "import pytz\n",
    "import time\n",
    "from pprint import pprint\n",
    "from tqdm import tqdm_notebook as tqdm\n",
    "import re, os, collections, itertools, uuid, logging\n",
    "import tempfile\n",
    "import tables\n",
    "\n",
    "import zipfile\n",
    "import urllib\n",
    "\n",
    "import ee\n",
    "import pyproj\n",
    "import numpy as np\n",
    "import scipy as sp\n",
    "import pandas as pd\n",
    "import geopandas as gpd\n",
    "from matplotlib import pyplot as plt\n",
    "import seaborn as sns\n",
    "import shapely\n",
    "\n",
    "plt.rcParams['figure.figsize'] = (15, 5) # bigger plots\n",
    "plt.style.use('fivethirtyeight')\n",
    "%matplotlib inline\n",
    "%precision 4"
   ]
  },
  {
   "cell_type": "code",
   "execution_count": null,
   "metadata": {
    "ExecuteTime": {
     "end_time": "2017-04-26T02:37:24.120377Z",
     "start_time": "2017-04-26T10:37:24.116976+08:00"
    },
    "collapsed": true
   },
   "outputs": [],
   "source": []
  },
  {
   "cell_type": "code",
   "execution_count": 2,
   "metadata": {
    "ExecuteTime": {
     "end_time": "2017-04-26T02:36:49.912176Z",
     "start_time": "2017-04-26T10:36:49.910050+08:00"
    },
    "collapsed": true
   },
   "outputs": [],
   "source": [
    "# %load_ext autoreload\n",
    "# %autoreload 2"
   ]
  },
  {
   "cell_type": "code",
   "execution_count": 7,
   "metadata": {
    "ExecuteTime": {
     "end_time": "2017-04-26T02:37:44.036554Z",
     "start_time": "2017-04-26T10:37:33.582482+08:00"
    },
    "collapsed": true
   },
   "outputs": [],
   "source": [
    "helper_dir = str(Path('..').abspath())\n",
    "if helper_dir not in os.sys.path:\n",
    "    os.sys.path.append(helper_dir)\n",
    "    \n",
    "from leak_helpers.earth_engine import display_ee, get_boundary, tifs2np, bands_s1, download_image, bands_s2, bands_l7, bands_l8\n",
    "from leak_helpers.visualization import imshow_bands"
   ]
  },
  {
   "cell_type": "markdown",
   "metadata": {},
   "source": [
    "# Load leaks\n",
    "\n",
    "Load the leaks from a geojson file and make sure they have unique fields REPO_Date and leak_id (see asserts below)"
   ]
  },
  {
   "cell_type": "code",
   "execution_count": 11,
   "metadata": {
    "ExecuteTime": {
     "end_time": "2017-04-26T02:38:47.897425Z",
     "start_time": "2017-04-26T10:38:44.964969+08:00"
    },
    "collapsed": true,
    "scrolled": true
   },
   "outputs": [],
   "source": [
    "# load \n",
    "\n",
    "leaks1 = gpd.read_file('../../data/leak_datasets/austin_leaks/derived/austin_leaks-repairs.geojson')\n",
    "# leaks2...\n",
    "leaks_datas = [leaks1]"
   ]
  },
  {
   "cell_type": "code",
   "execution_count": 12,
   "metadata": {
    "ExecuteTime": {
     "end_time": "2017-04-26T02:38:48.470079Z",
     "start_time": "2017-04-26T10:38:47.899131+08:00"
    }
   },
   "outputs": [
    {
     "data": {
      "text/html": [
       "<div>\n",
       "<table border=\"1\" class=\"dataframe\">\n",
       "  <thead>\n",
       "    <tr style=\"text-align: right;\">\n",
       "      <th></th>\n",
       "      <th>leak_id</th>\n",
       "      <th>REPO_Date</th>\n",
       "      <th>geometry</th>\n",
       "      <th>metadata</th>\n",
       "    </tr>\n",
       "    <tr>\n",
       "      <th>leak_id</th>\n",
       "      <th></th>\n",
       "      <th></th>\n",
       "      <th></th>\n",
       "      <th></th>\n",
       "    </tr>\n",
       "  </thead>\n",
       "  <tbody>\n",
       "    <tr>\n",
       "      <th>ATX-47486</th>\n",
       "      <td>ATX-47486</td>\n",
       "      <td>2009-08-24T19:56:00</td>\n",
       "      <td>POINT (-97.82460426524551 30.24299059253743)</td>\n",
       "      <td>{'SUFFIX': 'CIR', 'ZIP': '78735-    ', 'INITDT...</td>\n",
       "    </tr>\n",
       "    <tr>\n",
       "      <th>ATX-47487</th>\n",
       "      <td>ATX-47487</td>\n",
       "      <td>2009-08-24T20:00:00</td>\n",
       "      <td>POINT (-97.82675029997988 30.24219926503761)</td>\n",
       "      <td>{'SUFFIX': 'CIR', 'ZIP': '78735-    ', 'INITDT...</td>\n",
       "    </tr>\n",
       "    <tr>\n",
       "      <th>ATX-47488</th>\n",
       "      <td>ATX-47488</td>\n",
       "      <td>2009-08-22T06:05:00</td>\n",
       "      <td>POINT (-97.90543523261422 30.21938883975655)</td>\n",
       "      <td>{'SUFFIX': 'PASS', 'ZIP': '78737-    ', 'INITD...</td>\n",
       "    </tr>\n",
       "    <tr>\n",
       "      <th>ATX-47489</th>\n",
       "      <td>ATX-47489</td>\n",
       "      <td>2008-12-11T15:47:00</td>\n",
       "      <td>POINT (-97.74688985035503 30.27942444961227)</td>\n",
       "      <td>{'SUFFIX': 'AVE', 'ZIP': '78701-    ', 'INITDT...</td>\n",
       "    </tr>\n",
       "    <tr>\n",
       "      <th>ATX-47490</th>\n",
       "      <td>ATX-47490</td>\n",
       "      <td>2008-12-12T03:09:00</td>\n",
       "      <td>POINT (-97.75148894169132 30.32082458189908)</td>\n",
       "      <td>{'SUFFIX': 'BLVD', 'ZIP': '78731-    ', 'INITD...</td>\n",
       "    </tr>\n",
       "    <tr>\n",
       "      <th>ATX-47491</th>\n",
       "      <td>ATX-47491</td>\n",
       "      <td>2008-12-16T16:24:00</td>\n",
       "      <td>POINT (-97.76771015540359 30.2064011266074)</td>\n",
       "      <td>{'SUFFIX': 'DR', 'ZIP': '78745-    ', 'INITDTT...</td>\n",
       "    </tr>\n",
       "    <tr>\n",
       "      <th>ATX-47492</th>\n",
       "      <td>ATX-47492</td>\n",
       "      <td>2008-12-04T05:52:00</td>\n",
       "      <td>POINT (-97.75918111620598 30.29698530319657)</td>\n",
       "      <td>{'SUFFIX': 'LN', 'ZIP': '78703-    ', 'INITDTT...</td>\n",
       "    </tr>\n",
       "    <tr>\n",
       "      <th>ATX-47493</th>\n",
       "      <td>ATX-47493</td>\n",
       "      <td>2008-12-18T11:41:00</td>\n",
       "      <td>POINT (-97.7354500990549 30.30641876306587)</td>\n",
       "      <td>{'SUFFIX': 'ST', 'ZIP': '78751-    ', 'INITDTT...</td>\n",
       "    </tr>\n",
       "    <tr>\n",
       "      <th>ATX-47494</th>\n",
       "      <td>ATX-47494</td>\n",
       "      <td>2010-03-08T00:30:00</td>\n",
       "      <td>POINT (-97.82803137965742 30.24776340772963)</td>\n",
       "      <td>{'SUFFIX': 'LN', 'ZIP': '78735-    ', 'INITDTT...</td>\n",
       "    </tr>\n",
       "    <tr>\n",
       "      <th>ATX-47495</th>\n",
       "      <td>ATX-47495</td>\n",
       "      <td>2008-12-08T03:05:00</td>\n",
       "      <td>POINT (-97.71051676533885 30.26298823681678)</td>\n",
       "      <td>{'SUFFIX': 'ST', 'ZIP': '78702-    ', 'INITDTT...</td>\n",
       "    </tr>\n",
       "    <tr>\n",
       "      <th>ATX-47496</th>\n",
       "      <td>ATX-47496</td>\n",
       "      <td>2008-12-10T01:50:00</td>\n",
       "      <td>POINT (-97.7750080315964 30.25760950079775)</td>\n",
       "      <td>{'SUFFIX': 'DR', 'ZIP': '78704-    ', 'INITDTT...</td>\n",
       "    </tr>\n",
       "    <tr>\n",
       "      <th>ATX-47497</th>\n",
       "      <td>ATX-47497</td>\n",
       "      <td>2009-08-24T21:52:00</td>\n",
       "      <td>POINT (-97.76163158879571 30.29738378720173)</td>\n",
       "      <td>{'SUFFIX': 'DR', 'ZIP': '78703-    ', 'INITDTT...</td>\n",
       "    </tr>\n",
       "    <tr>\n",
       "      <th>ATX-47498</th>\n",
       "      <td>ATX-47498</td>\n",
       "      <td>2008-12-09T02:39:00</td>\n",
       "      <td>POINT (-97.76944922024389 30.23972304521572)</td>\n",
       "      <td>{'SUFFIX': 'CV', 'ZIP': '78704-    ', 'INITDTT...</td>\n",
       "    </tr>\n",
       "    <tr>\n",
       "      <th>ATX-47499</th>\n",
       "      <td>ATX-47499</td>\n",
       "      <td>2008-12-07T18:49:00</td>\n",
       "      <td>POINT (-97.73446407455189 30.32291721101286)</td>\n",
       "      <td>{'SUFFIX': 'AVE', 'ZIP': '78756-    ', 'INITDT...</td>\n",
       "    </tr>\n",
       "    <tr>\n",
       "      <th>ATX-47500</th>\n",
       "      <td>ATX-47500</td>\n",
       "      <td>2008-12-15T19:39:00</td>\n",
       "      <td>POINT (-97.6885156595565 30.30999981781025)</td>\n",
       "      <td>{'SUFFIX': 'DR', 'ZIP': '78723-    ', 'INITDTT...</td>\n",
       "    </tr>\n",
       "    <tr>\n",
       "      <th>ATX-47501</th>\n",
       "      <td>ATX-47501</td>\n",
       "      <td>2009-08-23T01:25:00</td>\n",
       "      <td>POINT (-97.6795479811319 30.28518479171067)</td>\n",
       "      <td>{'SUFFIX': 'RD', 'ZIP': '78721-    ', 'INITDTT...</td>\n",
       "    </tr>\n",
       "    <tr>\n",
       "      <th>ATX-47502</th>\n",
       "      <td>ATX-47502</td>\n",
       "      <td>2008-12-07T06:27:00</td>\n",
       "      <td>POINT (-97.75502045361979 30.30422032928627)</td>\n",
       "      <td>{'SUFFIX': 'DR', 'ZIP': '78703-    ', 'INITDTT...</td>\n",
       "    </tr>\n",
       "    <tr>\n",
       "      <th>ATX-47503</th>\n",
       "      <td>ATX-47503</td>\n",
       "      <td>2009-08-25T01:15:00</td>\n",
       "      <td>POINT (-97.6616555831656 30.28834178198006)</td>\n",
       "      <td>{'SUFFIX': 'DR', 'ZIP': '78724-    ', 'INITDTT...</td>\n",
       "    </tr>\n",
       "    <tr>\n",
       "      <th>ATX-47504</th>\n",
       "      <td>ATX-47504</td>\n",
       "      <td>2008-12-15T20:01:00</td>\n",
       "      <td>POINT (-97.68836457533361 30.30438042438331)</td>\n",
       "      <td>{'SUFFIX': 'LN', 'ZIP': '78723-    ', 'INITDTT...</td>\n",
       "    </tr>\n",
       "    <tr>\n",
       "      <th>ATX-47505</th>\n",
       "      <td>ATX-47505</td>\n",
       "      <td>2008-12-11T12:27:00</td>\n",
       "      <td>POINT (-97.79419587998068 30.25309566083325)</td>\n",
       "      <td>{'SUFFIX': 'DR', 'ZIP': '78704-    ', 'INITDTT...</td>\n",
       "    </tr>\n",
       "    <tr>\n",
       "      <th>ATX-47506</th>\n",
       "      <td>ATX-47506</td>\n",
       "      <td>2008-12-13T04:54:00</td>\n",
       "      <td>POINT (-97.71585179399861 30.28287851870463)</td>\n",
       "      <td>{'SUFFIX': 'PL', 'ZIP': '78722-    ', 'INITDTT...</td>\n",
       "    </tr>\n",
       "    <tr>\n",
       "      <th>ATX-47507</th>\n",
       "      <td>ATX-47507</td>\n",
       "      <td>2008-12-19T21:03:00</td>\n",
       "      <td>POINT (-97.77735835885383 30.44914289108704)</td>\n",
       "      <td>{'SUFFIX': 'DR', 'ZIP': '78729-    ', 'INITDTT...</td>\n",
       "    </tr>\n",
       "    <tr>\n",
       "      <th>ATX-47508</th>\n",
       "      <td>ATX-47508</td>\n",
       "      <td>2008-12-11T23:00:00</td>\n",
       "      <td>POINT (-97.73211207109489 30.36299194868041)</td>\n",
       "      <td>{'SUFFIX': 'AVE', 'ZIP': '78757-    ', 'INITDT...</td>\n",
       "    </tr>\n",
       "    <tr>\n",
       "      <th>ATX-47509</th>\n",
       "      <td>ATX-47509</td>\n",
       "      <td>2008-12-22T19:16:00</td>\n",
       "      <td>POINT (-97.75207189419315 30.29547815644571)</td>\n",
       "      <td>{'SUFFIX': 'DR', 'ZIP': '78703-    ', 'INITDTT...</td>\n",
       "    </tr>\n",
       "    <tr>\n",
       "      <th>ATX-47510</th>\n",
       "      <td>ATX-47510</td>\n",
       "      <td>2008-12-16T21:40:00</td>\n",
       "      <td>POINT (-97.77834994035153 30.20288444435117)</td>\n",
       "      <td>{'SUFFIX': 'DR', 'ZIP': '78745-    ', 'INITDTT...</td>\n",
       "    </tr>\n",
       "    <tr>\n",
       "      <th>ATX-47511</th>\n",
       "      <td>ATX-47511</td>\n",
       "      <td>2008-12-24T17:54:00</td>\n",
       "      <td>POINT (-97.72093549877751 30.2885654778701)</td>\n",
       "      <td>{'SUFFIX': 'ST', 'ZIP': '78722-    ', 'INITDTT...</td>\n",
       "    </tr>\n",
       "    <tr>\n",
       "      <th>ATX-47512</th>\n",
       "      <td>ATX-47512</td>\n",
       "      <td>2008-12-24T11:01:00</td>\n",
       "      <td>POINT (-97.75333237392334 30.32847464805146)</td>\n",
       "      <td>{'SUFFIX': 'DR', 'ZIP': '78731-    ', 'INITDTT...</td>\n",
       "    </tr>\n",
       "    <tr>\n",
       "      <th>ATX-47513</th>\n",
       "      <td>ATX-47513</td>\n",
       "      <td>2009-01-06T21:17:00</td>\n",
       "      <td>POINT (-97.73638362112345 30.22231564570604)</td>\n",
       "      <td>{'SUFFIX': 'DR', 'ZIP': '78741-    ', 'INITDTT...</td>\n",
       "    </tr>\n",
       "    <tr>\n",
       "      <th>ATX-47514</th>\n",
       "      <td>ATX-47514</td>\n",
       "      <td>2008-12-30T21:11:00</td>\n",
       "      <td>POINT (-97.74840584359411 30.33333979644249)</td>\n",
       "      <td>{'SUFFIX': 'BLVD', 'ZIP': '78756-    ', 'INITD...</td>\n",
       "    </tr>\n",
       "    <tr>\n",
       "      <th>ATX-47515</th>\n",
       "      <td>ATX-47515</td>\n",
       "      <td>2007-02-09T09:41:00</td>\n",
       "      <td>POINT (-97.77356215237674 30.22163467591938)</td>\n",
       "      <td>{'SUFFIX': 'RD', 'ZIP': '78745-    ', 'INITDTT...</td>\n",
       "    </tr>\n",
       "    <tr>\n",
       "      <th>...</th>\n",
       "      <td>...</td>\n",
       "      <td>...</td>\n",
       "      <td>...</td>\n",
       "      <td>...</td>\n",
       "    </tr>\n",
       "    <tr>\n",
       "      <th>ATX-70587</th>\n",
       "      <td>ATX-70587</td>\n",
       "      <td>2017-02-06T20:24:00</td>\n",
       "      <td>POINT (-97.69612767423286 30.33014639024331)</td>\n",
       "      <td>{'SUFFIX': 'AVE', 'ZIP': '78752-    ', 'INITDT...</td>\n",
       "    </tr>\n",
       "    <tr>\n",
       "      <th>ATX-70588</th>\n",
       "      <td>ATX-70588</td>\n",
       "      <td>2017-02-10T18:28:00</td>\n",
       "      <td>POINT (-97.68759124418112 30.36886373358098)</td>\n",
       "      <td>{'SUFFIX': 'DR', 'ZIP': '78753-    ', 'INITDTT...</td>\n",
       "    </tr>\n",
       "    <tr>\n",
       "      <th>ATX-70589</th>\n",
       "      <td>ATX-70589</td>\n",
       "      <td>2017-02-11T03:09:00</td>\n",
       "      <td>POINT (-97.75201769610545 30.36905158527984)</td>\n",
       "      <td>{'SUFFIX': 'DR', 'ZIP': '78759-    ', 'INITDTT...</td>\n",
       "    </tr>\n",
       "    <tr>\n",
       "      <th>ATX-70590</th>\n",
       "      <td>ATX-70590</td>\n",
       "      <td>2017-02-14T03:06:00</td>\n",
       "      <td>POINT (-97.67358467634561 30.30524625454306)</td>\n",
       "      <td>{'SUFFIX': 'DR', 'ZIP': '78723-    ', 'INITDTT...</td>\n",
       "    </tr>\n",
       "    <tr>\n",
       "      <th>ATX-70591</th>\n",
       "      <td>ATX-70591</td>\n",
       "      <td>2017-02-06T19:45:00</td>\n",
       "      <td>POINT (-97.77575678484202 30.35432876830911)</td>\n",
       "      <td>{'SUFFIX': 'WAY', 'ZIP': '78731-    ', 'INITDT...</td>\n",
       "    </tr>\n",
       "    <tr>\n",
       "      <th>ATX-70592</th>\n",
       "      <td>ATX-70592</td>\n",
       "      <td>2017-01-30T23:15:00</td>\n",
       "      <td>POINT (-97.76649592905592 30.30036364526744)</td>\n",
       "      <td>{'SUFFIX': 'DR', 'ZIP': '78703-    ', 'INITDTT...</td>\n",
       "    </tr>\n",
       "    <tr>\n",
       "      <th>ATX-70593</th>\n",
       "      <td>ATX-70593</td>\n",
       "      <td>2017-02-01T20:45:00</td>\n",
       "      <td>POINT (-97.6648140744901 30.29155538276262)</td>\n",
       "      <td>{'SUFFIX': 'BLVD', 'ZIP': '78723-    ', 'INITD...</td>\n",
       "    </tr>\n",
       "    <tr>\n",
       "      <th>ATX-70594</th>\n",
       "      <td>ATX-70594</td>\n",
       "      <td>2017-02-02T04:56:00</td>\n",
       "      <td>POINT (-97.78444857807514 30.21466728210482)</td>\n",
       "      <td>{'SUFFIX': 'DR', 'ZIP': '78745-    ', 'INITDTT...</td>\n",
       "    </tr>\n",
       "    <tr>\n",
       "      <th>ATX-70595</th>\n",
       "      <td>ATX-70595</td>\n",
       "      <td>2017-02-16T01:56:00</td>\n",
       "      <td>POINT (-97.78872926072586 30.23350949986936)</td>\n",
       "      <td>{'SUFFIX': 'DR', 'ZIP': '78704-    ', 'INITDTT...</td>\n",
       "    </tr>\n",
       "    <tr>\n",
       "      <th>ATX-70596</th>\n",
       "      <td>ATX-70596</td>\n",
       "      <td>2017-02-03T17:45:00</td>\n",
       "      <td>POINT (-97.73323830541952 30.31745561879857)</td>\n",
       "      <td>{'SUFFIX': 'BLVD', 'ZIP': '78756-    ', 'INITD...</td>\n",
       "    </tr>\n",
       "    <tr>\n",
       "      <th>ATX-70597</th>\n",
       "      <td>ATX-70597</td>\n",
       "      <td>2017-02-07T23:44:00</td>\n",
       "      <td>POINT (-97.72606032578145 30.30999885700736)</td>\n",
       "      <td>{'SUFFIX': ' ', 'ZIP': '78751-    ', 'INITDTTM...</td>\n",
       "    </tr>\n",
       "    <tr>\n",
       "      <th>ATX-70598</th>\n",
       "      <td>ATX-70598</td>\n",
       "      <td>2017-02-03T18:11:00</td>\n",
       "      <td>POINT (-97.84648270740318 30.2292945202867)</td>\n",
       "      <td>{'SUFFIX': 'TRL', 'ZIP': '78749-    ', 'INITDT...</td>\n",
       "    </tr>\n",
       "    <tr>\n",
       "      <th>ATX-70599</th>\n",
       "      <td>ATX-70599</td>\n",
       "      <td>2017-02-17T01:07:00</td>\n",
       "      <td>POINT (-97.68736689196109 30.23909036737392)</td>\n",
       "      <td>{'SUFFIX': 'HWY', 'ZIP': '78742-    ', 'INITDT...</td>\n",
       "    </tr>\n",
       "    <tr>\n",
       "      <th>ATX-70600</th>\n",
       "      <td>ATX-70600</td>\n",
       "      <td>2017-02-13T00:39:00</td>\n",
       "      <td>POINT (-97.69805366462411 30.23612883532359)</td>\n",
       "      <td>{'SUFFIX': 'AVE', 'ZIP': '78741-    ', 'INITDT...</td>\n",
       "    </tr>\n",
       "    <tr>\n",
       "      <th>ATX-70601</th>\n",
       "      <td>ATX-70601</td>\n",
       "      <td>2017-01-10T23:06:00</td>\n",
       "      <td>POINT (-97.71634409049777 30.28631552139746)</td>\n",
       "      <td>{'SUFFIX': 'ST', 'ZIP': '78722-    ', 'INITDTT...</td>\n",
       "    </tr>\n",
       "    <tr>\n",
       "      <th>ATX-70602</th>\n",
       "      <td>ATX-70602</td>\n",
       "      <td>2017-02-06T22:00:00</td>\n",
       "      <td>POINT (-97.76641252202596 30.25925828998614)</td>\n",
       "      <td>{'SUFFIX': 'AVE', 'ZIP': '78704-    ', 'INITDT...</td>\n",
       "    </tr>\n",
       "    <tr>\n",
       "      <th>ATX-70603</th>\n",
       "      <td>ATX-70603</td>\n",
       "      <td>2017-02-09T02:00:00</td>\n",
       "      <td>POINT (-97.72219135503057 30.30206507689073)</td>\n",
       "      <td>{'SUFFIX': 'BLVD', 'ZIP': '78751-    ', 'INITD...</td>\n",
       "    </tr>\n",
       "    <tr>\n",
       "      <th>ATX-70604</th>\n",
       "      <td>ATX-70604</td>\n",
       "      <td>2017-01-31T20:48:00</td>\n",
       "      <td>POINT (-97.81307959800138 30.3183619749208)</td>\n",
       "      <td>{'SUFFIX': 'DR', 'ZIP': '78746-    ', 'INITDTT...</td>\n",
       "    </tr>\n",
       "    <tr>\n",
       "      <th>ATX-70605</th>\n",
       "      <td>ATX-70605</td>\n",
       "      <td>2017-02-10T20:42:00</td>\n",
       "      <td>POINT (-97.72948993180425 30.30650226337686)</td>\n",
       "      <td>{'SUFFIX': ' ', 'ZIP': '78751-    ', 'INITDTTM...</td>\n",
       "    </tr>\n",
       "    <tr>\n",
       "      <th>ATX-70606</th>\n",
       "      <td>ATX-70606</td>\n",
       "      <td>2017-01-31T21:16:00</td>\n",
       "      <td>POINT (-97.75321761374349 30.27502770389426)</td>\n",
       "      <td>{'SUFFIX': 'ST', 'ZIP': '78703-    ', 'INITDTT...</td>\n",
       "    </tr>\n",
       "    <tr>\n",
       "      <th>ATX-70607</th>\n",
       "      <td>ATX-70607</td>\n",
       "      <td>2017-01-27T21:09:00</td>\n",
       "      <td>POINT (-97.84822614810216 30.23059073488725)</td>\n",
       "      <td>{'SUFFIX': 'DR', 'ZIP': '78749-    ', 'INITDTT...</td>\n",
       "    </tr>\n",
       "    <tr>\n",
       "      <th>ATX-70608</th>\n",
       "      <td>ATX-70608</td>\n",
       "      <td>2017-01-27T21:09:00</td>\n",
       "      <td>POINT (-97.84822614810216 30.23059073488725)</td>\n",
       "      <td>{'SUFFIX': 'DR', 'ZIP': '78749-    ', 'INITDTT...</td>\n",
       "    </tr>\n",
       "    <tr>\n",
       "      <th>ATX-70609</th>\n",
       "      <td>ATX-70609</td>\n",
       "      <td>2017-02-14T09:13:00</td>\n",
       "      <td>POINT (-97.71629701067313 30.36323955031358)</td>\n",
       "      <td>{'SUFFIX': 'RD', 'ZIP': '78758-    ', 'INITDTT...</td>\n",
       "    </tr>\n",
       "    <tr>\n",
       "      <th>ATX-70610</th>\n",
       "      <td>ATX-70610</td>\n",
       "      <td>2017-02-10T07:31:00</td>\n",
       "      <td>POINT (-97.69196714063571 30.39609749377057)</td>\n",
       "      <td>{'SUFFIX': 'DR', 'ZIP': '78758-    ', 'INITDTT...</td>\n",
       "    </tr>\n",
       "    <tr>\n",
       "      <th>ATX-70611</th>\n",
       "      <td>ATX-70611</td>\n",
       "      <td>2017-02-11T04:41:00</td>\n",
       "      <td>POINT (-97.83924391121697 30.25143929904074)</td>\n",
       "      <td>{'SUFFIX': 'BLVD', 'ZIP': '78735-    ', 'INITD...</td>\n",
       "    </tr>\n",
       "    <tr>\n",
       "      <th>ATX-70612</th>\n",
       "      <td>ATX-70612</td>\n",
       "      <td>2017-02-07T21:19:00</td>\n",
       "      <td>POINT (-97.72967930881964 30.33820583105881)</td>\n",
       "      <td>{'SUFFIX': 'ST', 'ZIP': '78757-    ', 'INITDTT...</td>\n",
       "    </tr>\n",
       "    <tr>\n",
       "      <th>ATX-70613</th>\n",
       "      <td>ATX-70613</td>\n",
       "      <td>2017-02-06T22:30:00</td>\n",
       "      <td>POINT (-97.82358419028652 30.19189506598336)</td>\n",
       "      <td>{'SUFFIX': 'CV', 'ZIP': '78749-    ', 'INITDTT...</td>\n",
       "    </tr>\n",
       "    <tr>\n",
       "      <th>ATX-70614</th>\n",
       "      <td>ATX-70614</td>\n",
       "      <td>2017-01-25T04:45:00</td>\n",
       "      <td>POINT (-97.75832058342988 30.28088955049816)</td>\n",
       "      <td>{'SUFFIX': 'ST', 'ZIP': '78703-    ', 'INITDTT...</td>\n",
       "    </tr>\n",
       "    <tr>\n",
       "      <th>ATX-70615</th>\n",
       "      <td>ATX-70615</td>\n",
       "      <td>2017-01-25T01:40:00</td>\n",
       "      <td>POINT (-97.74702063118784 30.17176266908997)</td>\n",
       "      <td>{'SUFFIX': 'DR', 'ZIP': '78744-    ', 'INITDTT...</td>\n",
       "    </tr>\n",
       "    <tr>\n",
       "      <th>ATX-70616</th>\n",
       "      <td>ATX-70616</td>\n",
       "      <td>2017-02-09T03:53:00</td>\n",
       "      <td>POINT (-97.7498211266024 30.27442020454225)</td>\n",
       "      <td>{'SUFFIX': 'ST', 'ZIP': '78701-    ', 'INITDTT...</td>\n",
       "    </tr>\n",
       "  </tbody>\n",
       "</table>\n",
       "<p>23131 rows × 4 columns</p>\n",
       "</div>"
      ],
      "text/plain": [
       "             leak_id            REPO_Date  \\\n",
       "leak_id                                     \n",
       "ATX-47486  ATX-47486  2009-08-24T19:56:00   \n",
       "ATX-47487  ATX-47487  2009-08-24T20:00:00   \n",
       "ATX-47488  ATX-47488  2009-08-22T06:05:00   \n",
       "ATX-47489  ATX-47489  2008-12-11T15:47:00   \n",
       "ATX-47490  ATX-47490  2008-12-12T03:09:00   \n",
       "ATX-47491  ATX-47491  2008-12-16T16:24:00   \n",
       "ATX-47492  ATX-47492  2008-12-04T05:52:00   \n",
       "ATX-47493  ATX-47493  2008-12-18T11:41:00   \n",
       "ATX-47494  ATX-47494  2010-03-08T00:30:00   \n",
       "ATX-47495  ATX-47495  2008-12-08T03:05:00   \n",
       "ATX-47496  ATX-47496  2008-12-10T01:50:00   \n",
       "ATX-47497  ATX-47497  2009-08-24T21:52:00   \n",
       "ATX-47498  ATX-47498  2008-12-09T02:39:00   \n",
       "ATX-47499  ATX-47499  2008-12-07T18:49:00   \n",
       "ATX-47500  ATX-47500  2008-12-15T19:39:00   \n",
       "ATX-47501  ATX-47501  2009-08-23T01:25:00   \n",
       "ATX-47502  ATX-47502  2008-12-07T06:27:00   \n",
       "ATX-47503  ATX-47503  2009-08-25T01:15:00   \n",
       "ATX-47504  ATX-47504  2008-12-15T20:01:00   \n",
       "ATX-47505  ATX-47505  2008-12-11T12:27:00   \n",
       "ATX-47506  ATX-47506  2008-12-13T04:54:00   \n",
       "ATX-47507  ATX-47507  2008-12-19T21:03:00   \n",
       "ATX-47508  ATX-47508  2008-12-11T23:00:00   \n",
       "ATX-47509  ATX-47509  2008-12-22T19:16:00   \n",
       "ATX-47510  ATX-47510  2008-12-16T21:40:00   \n",
       "ATX-47511  ATX-47511  2008-12-24T17:54:00   \n",
       "ATX-47512  ATX-47512  2008-12-24T11:01:00   \n",
       "ATX-47513  ATX-47513  2009-01-06T21:17:00   \n",
       "ATX-47514  ATX-47514  2008-12-30T21:11:00   \n",
       "ATX-47515  ATX-47515  2007-02-09T09:41:00   \n",
       "...              ...                  ...   \n",
       "ATX-70587  ATX-70587  2017-02-06T20:24:00   \n",
       "ATX-70588  ATX-70588  2017-02-10T18:28:00   \n",
       "ATX-70589  ATX-70589  2017-02-11T03:09:00   \n",
       "ATX-70590  ATX-70590  2017-02-14T03:06:00   \n",
       "ATX-70591  ATX-70591  2017-02-06T19:45:00   \n",
       "ATX-70592  ATX-70592  2017-01-30T23:15:00   \n",
       "ATX-70593  ATX-70593  2017-02-01T20:45:00   \n",
       "ATX-70594  ATX-70594  2017-02-02T04:56:00   \n",
       "ATX-70595  ATX-70595  2017-02-16T01:56:00   \n",
       "ATX-70596  ATX-70596  2017-02-03T17:45:00   \n",
       "ATX-70597  ATX-70597  2017-02-07T23:44:00   \n",
       "ATX-70598  ATX-70598  2017-02-03T18:11:00   \n",
       "ATX-70599  ATX-70599  2017-02-17T01:07:00   \n",
       "ATX-70600  ATX-70600  2017-02-13T00:39:00   \n",
       "ATX-70601  ATX-70601  2017-01-10T23:06:00   \n",
       "ATX-70602  ATX-70602  2017-02-06T22:00:00   \n",
       "ATX-70603  ATX-70603  2017-02-09T02:00:00   \n",
       "ATX-70604  ATX-70604  2017-01-31T20:48:00   \n",
       "ATX-70605  ATX-70605  2017-02-10T20:42:00   \n",
       "ATX-70606  ATX-70606  2017-01-31T21:16:00   \n",
       "ATX-70607  ATX-70607  2017-01-27T21:09:00   \n",
       "ATX-70608  ATX-70608  2017-01-27T21:09:00   \n",
       "ATX-70609  ATX-70609  2017-02-14T09:13:00   \n",
       "ATX-70610  ATX-70610  2017-02-10T07:31:00   \n",
       "ATX-70611  ATX-70611  2017-02-11T04:41:00   \n",
       "ATX-70612  ATX-70612  2017-02-07T21:19:00   \n",
       "ATX-70613  ATX-70613  2017-02-06T22:30:00   \n",
       "ATX-70614  ATX-70614  2017-01-25T04:45:00   \n",
       "ATX-70615  ATX-70615  2017-01-25T01:40:00   \n",
       "ATX-70616  ATX-70616  2017-02-09T03:53:00   \n",
       "\n",
       "                                               geometry  \\\n",
       "leak_id                                                   \n",
       "ATX-47486  POINT (-97.82460426524551 30.24299059253743)   \n",
       "ATX-47487  POINT (-97.82675029997988 30.24219926503761)   \n",
       "ATX-47488  POINT (-97.90543523261422 30.21938883975655)   \n",
       "ATX-47489  POINT (-97.74688985035503 30.27942444961227)   \n",
       "ATX-47490  POINT (-97.75148894169132 30.32082458189908)   \n",
       "ATX-47491   POINT (-97.76771015540359 30.2064011266074)   \n",
       "ATX-47492  POINT (-97.75918111620598 30.29698530319657)   \n",
       "ATX-47493   POINT (-97.7354500990549 30.30641876306587)   \n",
       "ATX-47494  POINT (-97.82803137965742 30.24776340772963)   \n",
       "ATX-47495  POINT (-97.71051676533885 30.26298823681678)   \n",
       "ATX-47496   POINT (-97.7750080315964 30.25760950079775)   \n",
       "ATX-47497  POINT (-97.76163158879571 30.29738378720173)   \n",
       "ATX-47498  POINT (-97.76944922024389 30.23972304521572)   \n",
       "ATX-47499  POINT (-97.73446407455189 30.32291721101286)   \n",
       "ATX-47500   POINT (-97.6885156595565 30.30999981781025)   \n",
       "ATX-47501   POINT (-97.6795479811319 30.28518479171067)   \n",
       "ATX-47502  POINT (-97.75502045361979 30.30422032928627)   \n",
       "ATX-47503   POINT (-97.6616555831656 30.28834178198006)   \n",
       "ATX-47504  POINT (-97.68836457533361 30.30438042438331)   \n",
       "ATX-47505  POINT (-97.79419587998068 30.25309566083325)   \n",
       "ATX-47506  POINT (-97.71585179399861 30.28287851870463)   \n",
       "ATX-47507  POINT (-97.77735835885383 30.44914289108704)   \n",
       "ATX-47508  POINT (-97.73211207109489 30.36299194868041)   \n",
       "ATX-47509  POINT (-97.75207189419315 30.29547815644571)   \n",
       "ATX-47510  POINT (-97.77834994035153 30.20288444435117)   \n",
       "ATX-47511   POINT (-97.72093549877751 30.2885654778701)   \n",
       "ATX-47512  POINT (-97.75333237392334 30.32847464805146)   \n",
       "ATX-47513  POINT (-97.73638362112345 30.22231564570604)   \n",
       "ATX-47514  POINT (-97.74840584359411 30.33333979644249)   \n",
       "ATX-47515  POINT (-97.77356215237674 30.22163467591938)   \n",
       "...                                                 ...   \n",
       "ATX-70587  POINT (-97.69612767423286 30.33014639024331)   \n",
       "ATX-70588  POINT (-97.68759124418112 30.36886373358098)   \n",
       "ATX-70589  POINT (-97.75201769610545 30.36905158527984)   \n",
       "ATX-70590  POINT (-97.67358467634561 30.30524625454306)   \n",
       "ATX-70591  POINT (-97.77575678484202 30.35432876830911)   \n",
       "ATX-70592  POINT (-97.76649592905592 30.30036364526744)   \n",
       "ATX-70593   POINT (-97.6648140744901 30.29155538276262)   \n",
       "ATX-70594  POINT (-97.78444857807514 30.21466728210482)   \n",
       "ATX-70595  POINT (-97.78872926072586 30.23350949986936)   \n",
       "ATX-70596  POINT (-97.73323830541952 30.31745561879857)   \n",
       "ATX-70597  POINT (-97.72606032578145 30.30999885700736)   \n",
       "ATX-70598   POINT (-97.84648270740318 30.2292945202867)   \n",
       "ATX-70599  POINT (-97.68736689196109 30.23909036737392)   \n",
       "ATX-70600  POINT (-97.69805366462411 30.23612883532359)   \n",
       "ATX-70601  POINT (-97.71634409049777 30.28631552139746)   \n",
       "ATX-70602  POINT (-97.76641252202596 30.25925828998614)   \n",
       "ATX-70603  POINT (-97.72219135503057 30.30206507689073)   \n",
       "ATX-70604   POINT (-97.81307959800138 30.3183619749208)   \n",
       "ATX-70605  POINT (-97.72948993180425 30.30650226337686)   \n",
       "ATX-70606  POINT (-97.75321761374349 30.27502770389426)   \n",
       "ATX-70607  POINT (-97.84822614810216 30.23059073488725)   \n",
       "ATX-70608  POINT (-97.84822614810216 30.23059073488725)   \n",
       "ATX-70609  POINT (-97.71629701067313 30.36323955031358)   \n",
       "ATX-70610  POINT (-97.69196714063571 30.39609749377057)   \n",
       "ATX-70611  POINT (-97.83924391121697 30.25143929904074)   \n",
       "ATX-70612  POINT (-97.72967930881964 30.33820583105881)   \n",
       "ATX-70613  POINT (-97.82358419028652 30.19189506598336)   \n",
       "ATX-70614  POINT (-97.75832058342988 30.28088955049816)   \n",
       "ATX-70615  POINT (-97.74702063118784 30.17176266908997)   \n",
       "ATX-70616   POINT (-97.7498211266024 30.27442020454225)   \n",
       "\n",
       "                                                    metadata  \n",
       "leak_id                                                       \n",
       "ATX-47486  {'SUFFIX': 'CIR', 'ZIP': '78735-    ', 'INITDT...  \n",
       "ATX-47487  {'SUFFIX': 'CIR', 'ZIP': '78735-    ', 'INITDT...  \n",
       "ATX-47488  {'SUFFIX': 'PASS', 'ZIP': '78737-    ', 'INITD...  \n",
       "ATX-47489  {'SUFFIX': 'AVE', 'ZIP': '78701-    ', 'INITDT...  \n",
       "ATX-47490  {'SUFFIX': 'BLVD', 'ZIP': '78731-    ', 'INITD...  \n",
       "ATX-47491  {'SUFFIX': 'DR', 'ZIP': '78745-    ', 'INITDTT...  \n",
       "ATX-47492  {'SUFFIX': 'LN', 'ZIP': '78703-    ', 'INITDTT...  \n",
       "ATX-47493  {'SUFFIX': 'ST', 'ZIP': '78751-    ', 'INITDTT...  \n",
       "ATX-47494  {'SUFFIX': 'LN', 'ZIP': '78735-    ', 'INITDTT...  \n",
       "ATX-47495  {'SUFFIX': 'ST', 'ZIP': '78702-    ', 'INITDTT...  \n",
       "ATX-47496  {'SUFFIX': 'DR', 'ZIP': '78704-    ', 'INITDTT...  \n",
       "ATX-47497  {'SUFFIX': 'DR', 'ZIP': '78703-    ', 'INITDTT...  \n",
       "ATX-47498  {'SUFFIX': 'CV', 'ZIP': '78704-    ', 'INITDTT...  \n",
       "ATX-47499  {'SUFFIX': 'AVE', 'ZIP': '78756-    ', 'INITDT...  \n",
       "ATX-47500  {'SUFFIX': 'DR', 'ZIP': '78723-    ', 'INITDTT...  \n",
       "ATX-47501  {'SUFFIX': 'RD', 'ZIP': '78721-    ', 'INITDTT...  \n",
       "ATX-47502  {'SUFFIX': 'DR', 'ZIP': '78703-    ', 'INITDTT...  \n",
       "ATX-47503  {'SUFFIX': 'DR', 'ZIP': '78724-    ', 'INITDTT...  \n",
       "ATX-47504  {'SUFFIX': 'LN', 'ZIP': '78723-    ', 'INITDTT...  \n",
       "ATX-47505  {'SUFFIX': 'DR', 'ZIP': '78704-    ', 'INITDTT...  \n",
       "ATX-47506  {'SUFFIX': 'PL', 'ZIP': '78722-    ', 'INITDTT...  \n",
       "ATX-47507  {'SUFFIX': 'DR', 'ZIP': '78729-    ', 'INITDTT...  \n",
       "ATX-47508  {'SUFFIX': 'AVE', 'ZIP': '78757-    ', 'INITDT...  \n",
       "ATX-47509  {'SUFFIX': 'DR', 'ZIP': '78703-    ', 'INITDTT...  \n",
       "ATX-47510  {'SUFFIX': 'DR', 'ZIP': '78745-    ', 'INITDTT...  \n",
       "ATX-47511  {'SUFFIX': 'ST', 'ZIP': '78722-    ', 'INITDTT...  \n",
       "ATX-47512  {'SUFFIX': 'DR', 'ZIP': '78731-    ', 'INITDTT...  \n",
       "ATX-47513  {'SUFFIX': 'DR', 'ZIP': '78741-    ', 'INITDTT...  \n",
       "ATX-47514  {'SUFFIX': 'BLVD', 'ZIP': '78756-    ', 'INITD...  \n",
       "ATX-47515  {'SUFFIX': 'RD', 'ZIP': '78745-    ', 'INITDTT...  \n",
       "...                                                      ...  \n",
       "ATX-70587  {'SUFFIX': 'AVE', 'ZIP': '78752-    ', 'INITDT...  \n",
       "ATX-70588  {'SUFFIX': 'DR', 'ZIP': '78753-    ', 'INITDTT...  \n",
       "ATX-70589  {'SUFFIX': 'DR', 'ZIP': '78759-    ', 'INITDTT...  \n",
       "ATX-70590  {'SUFFIX': 'DR', 'ZIP': '78723-    ', 'INITDTT...  \n",
       "ATX-70591  {'SUFFIX': 'WAY', 'ZIP': '78731-    ', 'INITDT...  \n",
       "ATX-70592  {'SUFFIX': 'DR', 'ZIP': '78703-    ', 'INITDTT...  \n",
       "ATX-70593  {'SUFFIX': 'BLVD', 'ZIP': '78723-    ', 'INITD...  \n",
       "ATX-70594  {'SUFFIX': 'DR', 'ZIP': '78745-    ', 'INITDTT...  \n",
       "ATX-70595  {'SUFFIX': 'DR', 'ZIP': '78704-    ', 'INITDTT...  \n",
       "ATX-70596  {'SUFFIX': 'BLVD', 'ZIP': '78756-    ', 'INITD...  \n",
       "ATX-70597  {'SUFFIX': ' ', 'ZIP': '78751-    ', 'INITDTTM...  \n",
       "ATX-70598  {'SUFFIX': 'TRL', 'ZIP': '78749-    ', 'INITDT...  \n",
       "ATX-70599  {'SUFFIX': 'HWY', 'ZIP': '78742-    ', 'INITDT...  \n",
       "ATX-70600  {'SUFFIX': 'AVE', 'ZIP': '78741-    ', 'INITDT...  \n",
       "ATX-70601  {'SUFFIX': 'ST', 'ZIP': '78722-    ', 'INITDTT...  \n",
       "ATX-70602  {'SUFFIX': 'AVE', 'ZIP': '78704-    ', 'INITDT...  \n",
       "ATX-70603  {'SUFFIX': 'BLVD', 'ZIP': '78751-    ', 'INITD...  \n",
       "ATX-70604  {'SUFFIX': 'DR', 'ZIP': '78746-    ', 'INITDTT...  \n",
       "ATX-70605  {'SUFFIX': ' ', 'ZIP': '78751-    ', 'INITDTTM...  \n",
       "ATX-70606  {'SUFFIX': 'ST', 'ZIP': '78703-    ', 'INITDTT...  \n",
       "ATX-70607  {'SUFFIX': 'DR', 'ZIP': '78749-    ', 'INITDTT...  \n",
       "ATX-70608  {'SUFFIX': 'DR', 'ZIP': '78749-    ', 'INITDTT...  \n",
       "ATX-70609  {'SUFFIX': 'RD', 'ZIP': '78758-    ', 'INITDTT...  \n",
       "ATX-70610  {'SUFFIX': 'DR', 'ZIP': '78758-    ', 'INITDTT...  \n",
       "ATX-70611  {'SUFFIX': 'BLVD', 'ZIP': '78735-    ', 'INITD...  \n",
       "ATX-70612  {'SUFFIX': 'ST', 'ZIP': '78757-    ', 'INITDTT...  \n",
       "ATX-70613  {'SUFFIX': 'CV', 'ZIP': '78749-    ', 'INITDTT...  \n",
       "ATX-70614  {'SUFFIX': 'ST', 'ZIP': '78703-    ', 'INITDTT...  \n",
       "ATX-70615  {'SUFFIX': 'DR', 'ZIP': '78744-    ', 'INITDTT...  \n",
       "ATX-70616  {'SUFFIX': 'ST', 'ZIP': '78701-    ', 'INITDTT...  \n",
       "\n",
       "[23131 rows x 4 columns]"
      ]
     },
     "execution_count": 12,
     "metadata": {},
     "output_type": "execute_result"
    }
   ],
   "source": [
    "# join them all, with primary columns and random metadata\n",
    "primary_cols = ['leak_id','REPO_Date','geometry']\n",
    "leaks = gpd.GeoDataFrame(pd.concat([leaks_data[primary_cols] for leaks_data in leaks_datas]), crs={'init': 'epsg:4326'})\n",
    "leaks['metadata'] = np.concatenate([leaks_data.drop(primary_cols,1).to_dict('records') for leaks_data in leaks_datas])\n",
    "leaks.index = leaks.leak_id\n",
    "leaks"
   ]
  },
  {
   "cell_type": "code",
   "execution_count": 13,
   "metadata": {
    "ExecuteTime": {
     "end_time": "2017-04-26T02:38:55.825813Z",
     "start_time": "2017-04-26T10:38:55.804539+08:00"
    }
   },
   "outputs": [
    {
     "name": "stdout",
     "output_type": "stream",
     "text": [
      "before 23131\n",
      "after 4796\n"
     ]
    }
   ],
   "source": [
    "# limit leaks to the time and space where satellite data exists\n",
    "print('before',len(leaks))\n",
    "\n",
    "# limit it to after satelite came into service\n",
    "leaks= leaks[pd.to_datetime(leaks.REPO_Date)>pd.Timestamp('Oct 3, 2014')]\n",
    "\n",
    "# # also limit them by location\n",
    "# satellite_bounds = shapely.geometry.box(\n",
    "#     # continentental us\n",
    "#     minx = -124.7844079, # west long\n",
    "#     miny =  24.7433195, # south lat\n",
    "#     maxx = -66.9513812, # east long\n",
    "#     maxy = 49.3457868, # north lat   \n",
    "# )\n",
    "# leaks = leaks[leaks.intersects(satellite_bounds)]\n",
    "print('after',len(leaks))"
   ]
  },
  {
   "cell_type": "code",
   "execution_count": 14,
   "metadata": {
    "ExecuteTime": {
     "end_time": "2017-04-26T02:38:56.658114Z",
     "start_time": "2017-04-26T10:38:56.354822+08:00"
    },
    "collapsed": true
   },
   "outputs": [],
   "source": [
    "assert 'REPO_Date' in leaks.columns, 'should have REPO_Date columns with the leak repair date'\n",
    "assert leaks.REPO_Date.apply(lambda x:arrow.get(x)).all(), 'should be parsable via arrow'\n",
    "assert 'leak_id' in leaks.columns, 'should have unique leak_id column'\n",
    "assert leaks.leak_id.apply(lambda x:'_' not in x).all(), 'should have no underscore in id'"
   ]
  },
  {
   "cell_type": "markdown",
   "metadata": {
    "ExecuteTime": {
     "end_time": "2017-03-15T09:25:15.212348Z",
     "start_time": "2017-03-15T17:25:15.209401+08:00"
    }
   },
   "source": [
    "## Params\n",
    "\n",
    "Customise the values in the cell below"
   ]
  },
  {
   "cell_type": "code",
   "execution_count": 15,
   "metadata": {
    "ExecuteTime": {
     "end_time": "2017-04-26T02:38:58.165243Z",
     "start_time": "2017-04-26T10:38:58.161693+08:00"
    },
    "collapsed": true
   },
   "outputs": [],
   "source": [
    "# rename your notebook to start a new dataset\n",
    "\n",
    "# params\n",
    "bands = bands_s1 # list of satelite band names from earth engine\n",
    "satellite = 'COPERNICUS/S1_GRD' # satelite name from earth engine\n",
    "resolution_min = 10.0 # the lowest resolution on earth engine\n",
    "\n",
    "# how many pixels hight and wide you image will be (centered on leak), should be odd, e.g. 25\n",
    "pixel_length = 25.0 \n",
    "\n",
    "# you need to tweak this until you pass the \"Test the distance need to get your rectangle\" cell\n",
    "fudge_distance_factor = -0.5"
   ]
  },
  {
   "cell_type": "markdown",
   "metadata": {},
   "source": [
    "## Init"
   ]
  },
  {
   "cell_type": "code",
   "execution_count": 16,
   "metadata": {
    "ExecuteTime": {
     "end_time": "2017-04-26T02:39:00.277246Z",
     "start_time": "2017-04-26T10:39:00.273686+08:00"
    }
   },
   "outputs": [
    {
     "data": {
      "application/javascript": [
       "// get notebook name\n",
       "var command = \"notebook_name = '\" + IPython.notebook.notebook_path.replace('.ipynb','') + \"'\";\n",
       "IPython.notebook.kernel.execute(command);"
      ],
      "text/plain": [
       "<IPython.core.display.Javascript object>"
      ]
     },
     "metadata": {},
     "output_type": "display_data"
    }
   ],
   "source": [
    "%%javascript\n",
    "// get notebook name\n",
    "var command = \"notebook_name = '\" + IPython.notebook.notebook_path.replace('.ipynb','') + \"'\";\n",
    "IPython.notebook.kernel.execute(command);"
   ]
  },
  {
   "cell_type": "code",
   "execution_count": 17,
   "metadata": {
    "ExecuteTime": {
     "end_time": "2017-04-26T02:39:01.142395Z",
     "start_time": "2017-04-26T10:39:01.137890+08:00"
    }
   },
   "outputs": [
    {
     "data": {
      "text/plain": [
       "'scraped_satellite_images/scraping_earth_engine_s1-all'"
      ]
     },
     "execution_count": 17,
     "metadata": {},
     "output_type": "execute_result"
    }
   ],
   "source": [
    "notebook_name"
   ]
  },
  {
   "cell_type": "code",
   "execution_count": 18,
   "metadata": {
    "ExecuteTime": {
     "end_time": "2017-04-26T02:39:08.222300Z",
     "start_time": "2017-04-26T10:39:08.195687+08:00"
    }
   },
   "outputs": [
    {
     "data": {
      "text/plain": [
       "(Path('/tmp/scraped_satellite_images/scraping_earth_engine_s1-all'),\n",
       " Path('../data/downloaded_images_scraped_satellite_images/scraping_earth_engine_s1-all_COPERNICUS-S1_GRD'),\n",
       " Path('../data/downloaded_images_scraped_satellite_images/scraping_earth_engine_s1-all_COPERNICUS-S1_GRD/cache'))"
      ]
     },
     "execution_count": 18,
     "metadata": {},
     "output_type": "execute_result"
    }
   ],
   "source": [
    "# constant params, probobly don't change\n",
    "time_bin_delta = 60*60*24*28 # how long before a leak to look (in seconds)\n",
    "crs_grid = 3857 # keep this as auxilary sphere, this is the CRS the downloaded images will be in\n",
    "\n",
    "# init\n",
    "## init directories\n",
    "ts=arrow.utcnow().format('YYYYMMDD-HH-mm-ss')\n",
    "temp_dir = Path('/tmp/{}'.format(notebook_name))\n",
    "output_dir = Path('../../data/scraped_satellite_images/downloaded_images_{}_{}'.format(notebook_name,satellite.replace('/','-')))\n",
    "cache_dir = output_dir.joinpath('cache')\n",
    "output_dir.makedirs_p()\n",
    "temp_dir.makedirs_p()\n",
    "cache_dir.makedirs_p()\n",
    "\n",
    "## init logger\n",
    "logger = logging.getLogger(notebook_name)\n",
    "# logger.setLevel(logging.WARN)\n",
    "\n",
    "temp_dir, output_dir, cache_dir"
   ]
  },
  {
   "cell_type": "code",
   "execution_count": null,
   "metadata": {
    "ExecuteTime": {
     "end_time": "2017-03-17T01:55:08.422794Z",
     "start_time": "2017-03-17T09:55:08.412448+08:00"
    },
    "collapsed": true
   },
   "outputs": [],
   "source": []
  },
  {
   "cell_type": "code",
   "execution_count": 24,
   "metadata": {
    "ExecuteTime": {
     "end_time": "2017-03-18T10:39:36.153617Z",
     "start_time": "2017-03-18T18:39:36.148751+08:00"
    },
    "collapsed": true
   },
   "outputs": [],
   "source": [
    "# record cofig in a json file\n",
    "metadata = dict(\n",
    "    notebook_name=notebook_name,\n",
    "    satellite=satellite,\n",
    "    time_bin_delta=time_bin_delta,\n",
    "    pixel_length=pixel_length,\n",
    "    resolution_min=resolution_min,\n",
    "    bands=bands,\n",
    "    ts=ts,\n",
    "    crs_grid=crs_grid,\n",
    "    cache_dir=str(cache_dir),\n",
    "    temp_dir=str(temp_dir),\n",
    "    output_dir=str(output_dir),\n",
    ")\n",
    "metadata_file = output_dir.joinpath('script_metadata.json')\n",
    "json.dump(metadata, open(metadata_file,'w'))"
   ]
  },
  {
   "cell_type": "markdown",
   "metadata": {},
   "source": [
    "# earth engine"
   ]
  },
  {
   "cell_type": "markdown",
   "metadata": {
    "ExecuteTime": {
     "end_time": "2017-03-15T09:40:35.685881Z",
     "start_time": "2017-03-15T17:40:35.680680+08:00"
    }
   },
   "source": [
    "## Steps:\n",
    "- first need to apply for an account and wait ~ 1day\n",
    "- Setup instructions [here](https://developers.google.com/earth-engine/python_install#setting-up-authentication-credentials)\n",
    "\n",
    "## Refs/examples:\n",
    "- api https://developers.google.com/earth-engine/\n",
    "- code examples https://code.earthengine.google.com/\n",
    "- sentinel1 https://developers.google.com/earth-engine/sentinel1\n",
    "    - `ee.ImageCollection('satellite');`\n",
    "    - `ee.ImageCollection('COPERNICUS/S1_GRD');`\n",
    "- keras and google earth https://github.com/patrick-dd/landsat-landstats"
   ]
  },
  {
   "cell_type": "code",
   "execution_count": 25,
   "metadata": {
    "ExecuteTime": {
     "end_time": "2017-03-18T10:39:39.095324Z",
     "start_time": "2017-03-18T18:39:36.820677+08:00"
    }
   },
   "outputs": [
    {
     "name": "stdout",
     "output_type": "stream",
     "text": [
      "ok\n"
     ]
    }
   ],
   "source": [
    "# test earth-engine setup\n",
    "from oauth2client import crypt # should have not error\n",
    "import ee\n",
    "ee.Initialize() # should give no errors, if so follow instructions\n",
    "\n",
    "\n",
    "# test\n",
    "image = ee.Image('srtm90_v4')\n",
    "assert image.getInfo()=={'type': 'Image', 'properties': {'system:time_start': 950227200000, 'system:asset_size': 18827626666, 'system:time_end': 951177600000}, 'bands': [{'data_type': {'type': 'PixelType', 'max': 32767, 'min': -32768, 'precision': 'int'}, 'crs': 'EPSG:4326', 'id': 'elevation', 'dimensions': [432000, 144000], 'crs_transform': [0.000833333333333, 0.0, -180.0, 0.0, -0.000833333333333, 60.0]}], 'id': 'srtm90_v4', 'version': 1463778555689000}\n",
    "print('ok')"
   ]
  },
  {
   "cell_type": "code",
   "execution_count": 26,
   "metadata": {
    "ExecuteTime": {
     "end_time": "2017-03-18T10:39:43.670700Z",
     "start_time": "2017-03-18T18:39:39.096960+08:00"
    }
   },
   "outputs": [
    {
     "data": {
      "text/plain": [
       "{'bands': [{'crs': 'EPSG:32649',\n",
       "   'crs_transform': [25.0000,\n",
       "    0.0000,\n",
       "    121126.5406,\n",
       "    0.0000,\n",
       "    -25.0000,\n",
       "    9304939.2309],\n",
       "   'data_type': {'precision': 'float', 'type': 'PixelType'},\n",
       "   'dimensions': [28690, 24380],\n",
       "   'id': 'HH'},\n",
       "  {'crs': 'EPSG:32649',\n",
       "   'crs_transform': [25.0000,\n",
       "    0.0000,\n",
       "    121126.5406,\n",
       "    0.0000,\n",
       "    -25.0000,\n",
       "    9304939.2309],\n",
       "   'data_type': {'precision': 'float', 'type': 'PixelType'},\n",
       "   'dimensions': [28690, 24380],\n",
       "   'id': 'HV'},\n",
       "  {'crs': 'EPSG:4326',\n",
       "   'crs_transform': [-0.8707, -0.8644, 126.1510, 0.1329, -0.1273, 81.3603],\n",
       "   'data_type': {'precision': 'float', 'type': 'PixelType'},\n",
       "   'dimensions': [21, 23],\n",
       "   'id': 'angle'}],\n",
       " 'id': 'COPERNICUS/S1_GRD/S1A_EW_GRDH_1SDH_20141003T003636_20141003T003740_002658_002F54_ECFA',\n",
       " 'properties': {'GRD_Post_Processing_facility_country': 'Italy',\n",
       "  'GRD_Post_Processing_facility_name': 'ESRIN headquarters',\n",
       "  'GRD_Post_Processing_facility_organisation': 'ESRIN',\n",
       "  'GRD_Post_Processing_facility_site': 'Rome',\n",
       "  'GRD_Post_Processing_software_name': 'Sentinel-1 IPF',\n",
       "  'GRD_Post_Processing_software_version': '002.36',\n",
       "  'GRD_Post_Processing_start': 1412307793275,\n",
       "  'GRD_Post_Processing_stop': 1412308431000,\n",
       "  'HH_log_bias': 65535.0000,\n",
       "  'HH_log_gain': 2138.2257,\n",
       "  'HH_original_max': 14.9555,\n",
       "  'HH_original_min': -267.5646,\n",
       "  'HV_log_bias': 65535.0000,\n",
       "  'HV_log_gain': 1748.4408,\n",
       "  'HV_original_max': 3.9082,\n",
       "  'HV_original_min': -266.9525,\n",
       "  'S1TBX_Calibration_Operator_version': '2.0.2',\n",
       "  'S1TBX_SAR_Processing_version': '2.0.2',\n",
       "  'SLC_Processing_facility_country': 'Italy',\n",
       "  'SLC_Processing_facility_name': 'ESRIN headquarters',\n",
       "  'SLC_Processing_facility_organisation': 'ESRIN',\n",
       "  'SLC_Processing_facility_site': 'Rome',\n",
       "  'SLC_Processing_software_name': 'Sentinel-1 IPF',\n",
       "  'SLC_Processing_software_version': '002.36',\n",
       "  'SLC_Processing_start': 1412307910000,\n",
       "  'SLC_Processing_stop': 1412308205000,\n",
       "  'SNAP_Graph_Processing_Framework_GPF_version': '2.0.1.0',\n",
       "  'cycleNumber': 16.0000,\n",
       "  'familyName': 'SENTINEL-1',\n",
       "  'instrument': 'Synthetic Aperture Radar',\n",
       "  'instrumentConfigurationID': 3.0000,\n",
       "  'instrumentMode': 'EW',\n",
       "  'instrumentSwath': 'EW',\n",
       "  'missionDataTakeID': 12116.0000,\n",
       "  'nssdcIdentifier': '0000-000A',\n",
       "  'orbitNumber_start': 2658.0000,\n",
       "  'orbitNumber_stop': 2658.0000,\n",
       "  'orbitProperties_ascendingNodeTime': 1412295016816,\n",
       "  'orbitProperties_pass': 'DESCENDING',\n",
       "  'phaseIdentifier': 1.0000,\n",
       "  'platform_number': 'A',\n",
       "  'productClass': 'S',\n",
       "  'productClassDescription': 'SAR Standard L1 Product',\n",
       "  'productComposition': 'Slice',\n",
       "  'productTimelinessCategory': 'Fast-24h',\n",
       "  'productType': 'GRD',\n",
       "  'relativeOrbitNumber_start': 138.0000,\n",
       "  'relativeOrbitNumber_stop': 138.0000,\n",
       "  'resolution': 'H',\n",
       "  'resolution_meters': 25.0000,\n",
       "  'segmentStartTime': 1412296596797,\n",
       "  'sliceNumber': 1.0000,\n",
       "  'sliceProductFlag': 'true',\n",
       "  'startTimeANX': 1579718.0000,\n",
       "  'stopTimeANX': 1643864.0000,\n",
       "  'system:asset_size': 1416232112,\n",
       "  'system:footprint': {'coordinates': [[96.1608, 81.1295],\n",
       "    [94.7770, 80.3697],\n",
       "    [94.0075, 79.8625],\n",
       "    [112.0237, 78.3314],\n",
       "    [112.6418, 78.5204],\n",
       "    [113.6775, 78.8218],\n",
       "    [114.8015, 79.1288],\n",
       "    [115.8482, 79.3972],\n",
       "    [117.0459, 79.6852],\n",
       "    [118.5287, 80.0161],\n",
       "    [119.4868, 80.2160],\n",
       "    [121.3563, 80.5779],\n",
       "    [122.6790, 80.8133],\n",
       "    [124.0036, 81.0334],\n",
       "    [126.1561, 81.3608],\n",
       "    [120.6670, 82.1078],\n",
       "    [106.4949, 83.1807],\n",
       "    [102.1876, 83.3713],\n",
       "    [97.7986, 81.8835],\n",
       "    [96.1608, 81.1295]],\n",
       "   'type': 'LinearRing'},\n",
       "  'system:index': 'S1A_EW_GRDH_1SDH_20141003T003636_20141003T003740_002658_002F54_ECFA',\n",
       "  'system:time_end': 1412296660680,\n",
       "  'system:time_start': 1412296596534,\n",
       "  'totalSlices': 3.0000,\n",
       "  'transmitterReceiverPolarisation': ['HH', 'HV']},\n",
       " 'type': 'Image',\n",
       " 'version': 1489725033006000}"
      ]
     },
     "execution_count": 26,
     "metadata": {},
     "output_type": "execute_result"
    }
   ],
   "source": [
    "# test earth-engine setup\n",
    "from oauth2client import crypt # should have not error\n",
    "import ee\n",
    "ee.Initialize() # should give no errors, if so follow instructions\n",
    "\n",
    "\n",
    "# test\n",
    "image = ee.Image(ee.ImageCollection(satellite).first())\n",
    "info = image.getInfo()\n",
    "info"
   ]
  },
  {
   "cell_type": "markdown",
   "metadata": {
    "ExecuteTime": {
     "end_time": "2017-01-15T10:46:31.548298",
     "start_time": "2017-01-15T10:46:31.546367"
    }
   },
   "source": [
    "# Fetching images"
   ]
  },
  {
   "cell_type": "markdown",
   "metadata": {},
   "source": [
    "For each point\n",
    "- find the nearest image before the repair\n",
    "- and the soonest image after repair\n",
    "- save a part of each with metadata\n",
    "\n",
    "Later will can filter, interpolate, read into numpy arrays, and save to hdf file"
   ]
  },
  {
   "cell_type": "code",
   "execution_count": 27,
   "metadata": {
    "ExecuteTime": {
     "end_time": "2017-03-18T10:39:43.774914Z",
     "start_time": "2017-03-18T18:39:43.672071+08:00"
    }
   },
   "outputs": [
    {
     "data": {
      "text/plain": [
       "{'1', '5', '7'}"
      ]
     },
     "execution_count": 27,
     "metadata": {},
     "output_type": "execute_result"
    }
   ],
   "source": [
    "import dataset\n",
    "cache_file = 'sqlite:///{}'.format(cache_dir.dirname().joinpath('cache.db'))\n",
    "db = dataset.connect(cache_file)\n",
    "cache_table = db.get_table('cached_ids', primary_id='leak_id', primary_type='String')\n",
    "\n",
    "def get_cached_ids():\n",
    "    return set(row['leak_id'] for row in cache_table.distinct('leak_id'))\n",
    "\n",
    "def init_cache(leak_id):\n",
    "    \"\"\"We will cache downloads in folders like 'id_after'\"\"\"\n",
    "    if leak_id:\n",
    "        try:\n",
    "            cache_table.insert(dict(leak_id=leak_id))\n",
    "        except:\n",
    "            db.rollback()\n",
    "        else:\n",
    "            db.commit()\n",
    "    return get_cached_ids()\n",
    "init_cache(1)"
   ]
  },
  {
   "cell_type": "code",
   "execution_count": 28,
   "metadata": {
    "ExecuteTime": {
     "end_time": "2017-03-18T10:39:43.779970Z",
     "start_time": "2017-03-18T18:39:43.776673+08:00"
    },
    "collapsed": true
   },
   "outputs": [],
   "source": [
    "# def get_cached_ids():\n",
    "#     cache_dirs = [str(f.relpath(cache_dir)).split('_')[0] for f in cache_dir.listdir()]\n",
    "#     return cache_dirs\n",
    "\n",
    "# def init_cache(leak_id):\n",
    "#     \"\"\"We will cache downloads in folders like 'id_after'\"\"\"\n",
    "#     if leak_id:\n",
    "#         cache_subdir = cache_dir.joinpath(leak_id+'_after')\n",
    "#         cache_subdir.makedirs_p()\n",
    "#         cache_subdir = cache_dir.joinpath(leak_id+'_before')\n",
    "#         cache_subdir.makedirs_p()\n",
    "#     return get_cached_ids()"
   ]
  },
  {
   "cell_type": "markdown",
   "metadata": {},
   "source": [
    "### Test the distance need to get your rectangle\n",
    "\n",
    "Here we need to tweak `fudge_distance_factor` so that we get the image size of our choice. Start with zero and try -1, -0.5, -.25,0,0.25,0.5,0.75. This is to deal with rounding, projecting between CRS's etc. Don't worry the asserts below will yet you know when it's right.\n",
    "\n",
    "Occasionaly the problem might be that the leak is at the edge of the image, giving a cropped image. Ignore these rare cases."
   ]
  },
  {
   "cell_type": "code",
   "execution_count": 29,
   "metadata": {
    "ExecuteTime": {
     "end_time": "2017-03-18T10:39:43.794582Z",
     "start_time": "2017-03-18T18:39:43.781841+08:00"
    },
    "collapsed": true
   },
   "outputs": [],
   "source": [
    "distance = resolution_min*(pixel_length/2.0+fudge_distance_factor)"
   ]
  },
  {
   "cell_type": "code",
   "execution_count": 30,
   "metadata": {
    "ExecuteTime": {
     "end_time": "2017-03-18T10:39:51.871734Z",
     "start_time": "2017-03-18T18:39:43.796092+08:00"
    }
   },
   "outputs": [
    {
     "ename": "KeyboardInterrupt",
     "evalue": "",
     "output_type": "error",
     "traceback": [
      "\u001b[0;31m---------------------------------------------------------------------------\u001b[0m",
      "\u001b[0;31mKeyboardInterrupt\u001b[0m                         Traceback (most recent call last)",
      "\u001b[0;32m<ipython-input-30-59eaab553c21>\u001b[0m in \u001b[0;36m<module>\u001b[0;34m()\u001b[0m\n\u001b[1;32m     15\u001b[0m         \u001b[0mcrs\u001b[0m\u001b[0;34m=\u001b[0m\u001b[0mcrs_grid\u001b[0m\u001b[0;34m,\u001b[0m\u001b[0;34m\u001b[0m\u001b[0m\n\u001b[1;32m     16\u001b[0m         \u001b[0mname\u001b[0m\u001b[0;34m=\u001b[0m\u001b[0mname\u001b[0m\u001b[0;34m,\u001b[0m\u001b[0;34m\u001b[0m\u001b[0m\n\u001b[0;32m---> 17\u001b[0;31m         \u001b[0mcache_dir\u001b[0m\u001b[0;34m=\u001b[0m\u001b[0mPath\u001b[0m\u001b[0;34m(\u001b[0m\u001b[0;34m'/tmp'\u001b[0m\u001b[0;34m)\u001b[0m\u001b[0;34m\u001b[0m\u001b[0m\n\u001b[0m\u001b[1;32m     18\u001b[0m     )\n\u001b[1;32m     19\u001b[0m     \u001b[0mdata\u001b[0m \u001b[0;34m=\u001b[0m \u001b[0mtifs2np\u001b[0m\u001b[0;34m(\u001b[0m\u001b[0mpath\u001b[0m\u001b[0;34m,\u001b[0m\u001b[0mfiles\u001b[0m\u001b[0;34m,\u001b[0m\u001b[0mbands\u001b[0m\u001b[0;34m=\u001b[0m\u001b[0mbands\u001b[0m\u001b[0;34m)\u001b[0m\u001b[0;34m\u001b[0m\u001b[0m\n",
      "\u001b[0;32m/media/isisilon/Data/My_Documents/Documents/eclipse-workspace/leak_detection/notebooks/leak_helpers/earth_engine.py\u001b[0m in \u001b[0;36mdownload_image\u001b[0;34m(clipped_image, scale, crs, name, cache_dir, progress_bar, report)\u001b[0m\n\u001b[1;32m    153\u001b[0m                 path, zip_dwn_file, reporthook=my_hook(t))\n\u001b[1;32m    154\u001b[0m     \u001b[0;32melse\u001b[0m\u001b[0;34m:\u001b[0m\u001b[0;34m\u001b[0m\u001b[0m\n\u001b[0;32m--> 155\u001b[0;31m         \u001b[0mzip_dwn_file\u001b[0m\u001b[0;34m,\u001b[0m \u001b[0mr\u001b[0m \u001b[0;34m=\u001b[0m \u001b[0murllib\u001b[0m\u001b[0;34m.\u001b[0m\u001b[0mrequest\u001b[0m\u001b[0;34m.\u001b[0m\u001b[0murlretrieve\u001b[0m\u001b[0;34m(\u001b[0m\u001b[0mpath\u001b[0m\u001b[0;34m,\u001b[0m \u001b[0mzip_dwn_file\u001b[0m\u001b[0;34m)\u001b[0m\u001b[0;34m\u001b[0m\u001b[0m\n\u001b[0m\u001b[1;32m    156\u001b[0m     \u001b[0mzip_dwn_file\u001b[0m\u001b[0;34m\u001b[0m\u001b[0m\n\u001b[1;32m    157\u001b[0m \u001b[0;34m\u001b[0m\u001b[0m\n",
      "\u001b[0;32m/usr/lib/python3.4/urllib/request.py\u001b[0m in \u001b[0;36murlretrieve\u001b[0;34m(url, filename, reporthook, data)\u001b[0m\n\u001b[1;32m    176\u001b[0m     \u001b[0murl_type\u001b[0m\u001b[0;34m,\u001b[0m \u001b[0mpath\u001b[0m \u001b[0;34m=\u001b[0m \u001b[0msplittype\u001b[0m\u001b[0;34m(\u001b[0m\u001b[0murl\u001b[0m\u001b[0;34m)\u001b[0m\u001b[0;34m\u001b[0m\u001b[0m\n\u001b[1;32m    177\u001b[0m \u001b[0;34m\u001b[0m\u001b[0m\n\u001b[0;32m--> 178\u001b[0;31m     \u001b[0;32mwith\u001b[0m \u001b[0mcontextlib\u001b[0m\u001b[0;34m.\u001b[0m\u001b[0mclosing\u001b[0m\u001b[0;34m(\u001b[0m\u001b[0murlopen\u001b[0m\u001b[0;34m(\u001b[0m\u001b[0murl\u001b[0m\u001b[0;34m,\u001b[0m \u001b[0mdata\u001b[0m\u001b[0;34m)\u001b[0m\u001b[0;34m)\u001b[0m \u001b[0;32mas\u001b[0m \u001b[0mfp\u001b[0m\u001b[0;34m:\u001b[0m\u001b[0;34m\u001b[0m\u001b[0m\n\u001b[0m\u001b[1;32m    179\u001b[0m         \u001b[0mheaders\u001b[0m \u001b[0;34m=\u001b[0m \u001b[0mfp\u001b[0m\u001b[0;34m.\u001b[0m\u001b[0minfo\u001b[0m\u001b[0;34m(\u001b[0m\u001b[0;34m)\u001b[0m\u001b[0;34m\u001b[0m\u001b[0m\n\u001b[1;32m    180\u001b[0m \u001b[0;34m\u001b[0m\u001b[0m\n",
      "\u001b[0;32m/usr/lib/python3.4/urllib/request.py\u001b[0m in \u001b[0;36murlopen\u001b[0;34m(url, data, timeout, cafile, capath, cadefault)\u001b[0m\n\u001b[1;32m    151\u001b[0m     \u001b[0;32melse\u001b[0m\u001b[0;34m:\u001b[0m\u001b[0;34m\u001b[0m\u001b[0m\n\u001b[1;32m    152\u001b[0m         \u001b[0mopener\u001b[0m \u001b[0;34m=\u001b[0m \u001b[0m_opener\u001b[0m\u001b[0;34m\u001b[0m\u001b[0m\n\u001b[0;32m--> 153\u001b[0;31m     \u001b[0;32mreturn\u001b[0m \u001b[0mopener\u001b[0m\u001b[0;34m.\u001b[0m\u001b[0mopen\u001b[0m\u001b[0;34m(\u001b[0m\u001b[0murl\u001b[0m\u001b[0;34m,\u001b[0m \u001b[0mdata\u001b[0m\u001b[0;34m,\u001b[0m \u001b[0mtimeout\u001b[0m\u001b[0;34m)\u001b[0m\u001b[0;34m\u001b[0m\u001b[0m\n\u001b[0m\u001b[1;32m    154\u001b[0m \u001b[0;34m\u001b[0m\u001b[0m\n\u001b[1;32m    155\u001b[0m \u001b[0;32mdef\u001b[0m \u001b[0minstall_opener\u001b[0m\u001b[0;34m(\u001b[0m\u001b[0mopener\u001b[0m\u001b[0;34m)\u001b[0m\u001b[0;34m:\u001b[0m\u001b[0;34m\u001b[0m\u001b[0m\n",
      "\u001b[0;32m/usr/lib/python3.4/urllib/request.py\u001b[0m in \u001b[0;36mopen\u001b[0;34m(self, fullurl, data, timeout)\u001b[0m\n\u001b[1;32m    453\u001b[0m             \u001b[0mreq\u001b[0m \u001b[0;34m=\u001b[0m \u001b[0mmeth\u001b[0m\u001b[0;34m(\u001b[0m\u001b[0mreq\u001b[0m\u001b[0;34m)\u001b[0m\u001b[0;34m\u001b[0m\u001b[0m\n\u001b[1;32m    454\u001b[0m \u001b[0;34m\u001b[0m\u001b[0m\n\u001b[0;32m--> 455\u001b[0;31m         \u001b[0mresponse\u001b[0m \u001b[0;34m=\u001b[0m \u001b[0mself\u001b[0m\u001b[0;34m.\u001b[0m\u001b[0m_open\u001b[0m\u001b[0;34m(\u001b[0m\u001b[0mreq\u001b[0m\u001b[0;34m,\u001b[0m \u001b[0mdata\u001b[0m\u001b[0;34m)\u001b[0m\u001b[0;34m\u001b[0m\u001b[0m\n\u001b[0m\u001b[1;32m    456\u001b[0m \u001b[0;34m\u001b[0m\u001b[0m\n\u001b[1;32m    457\u001b[0m         \u001b[0;31m# post-process response\u001b[0m\u001b[0;34m\u001b[0m\u001b[0;34m\u001b[0m\u001b[0m\n",
      "\u001b[0;32m/usr/lib/python3.4/urllib/request.py\u001b[0m in \u001b[0;36m_open\u001b[0;34m(self, req, data)\u001b[0m\n\u001b[1;32m    471\u001b[0m         \u001b[0mprotocol\u001b[0m \u001b[0;34m=\u001b[0m \u001b[0mreq\u001b[0m\u001b[0;34m.\u001b[0m\u001b[0mtype\u001b[0m\u001b[0;34m\u001b[0m\u001b[0m\n\u001b[1;32m    472\u001b[0m         result = self._call_chain(self.handle_open, protocol, protocol +\n\u001b[0;32m--> 473\u001b[0;31m                                   '_open', req)\n\u001b[0m\u001b[1;32m    474\u001b[0m         \u001b[0;32mif\u001b[0m \u001b[0mresult\u001b[0m\u001b[0;34m:\u001b[0m\u001b[0;34m\u001b[0m\u001b[0m\n\u001b[1;32m    475\u001b[0m             \u001b[0;32mreturn\u001b[0m \u001b[0mresult\u001b[0m\u001b[0;34m\u001b[0m\u001b[0m\n",
      "\u001b[0;32m/usr/lib/python3.4/urllib/request.py\u001b[0m in \u001b[0;36m_call_chain\u001b[0;34m(self, chain, kind, meth_name, *args)\u001b[0m\n\u001b[1;32m    431\u001b[0m         \u001b[0;32mfor\u001b[0m \u001b[0mhandler\u001b[0m \u001b[0;32min\u001b[0m \u001b[0mhandlers\u001b[0m\u001b[0;34m:\u001b[0m\u001b[0;34m\u001b[0m\u001b[0m\n\u001b[1;32m    432\u001b[0m             \u001b[0mfunc\u001b[0m \u001b[0;34m=\u001b[0m \u001b[0mgetattr\u001b[0m\u001b[0;34m(\u001b[0m\u001b[0mhandler\u001b[0m\u001b[0;34m,\u001b[0m \u001b[0mmeth_name\u001b[0m\u001b[0;34m)\u001b[0m\u001b[0;34m\u001b[0m\u001b[0m\n\u001b[0;32m--> 433\u001b[0;31m             \u001b[0mresult\u001b[0m \u001b[0;34m=\u001b[0m \u001b[0mfunc\u001b[0m\u001b[0;34m(\u001b[0m\u001b[0;34m*\u001b[0m\u001b[0margs\u001b[0m\u001b[0;34m)\u001b[0m\u001b[0;34m\u001b[0m\u001b[0m\n\u001b[0m\u001b[1;32m    434\u001b[0m             \u001b[0;32mif\u001b[0m \u001b[0mresult\u001b[0m \u001b[0;32mis\u001b[0m \u001b[0;32mnot\u001b[0m \u001b[0;32mNone\u001b[0m\u001b[0;34m:\u001b[0m\u001b[0;34m\u001b[0m\u001b[0m\n\u001b[1;32m    435\u001b[0m                 \u001b[0;32mreturn\u001b[0m \u001b[0mresult\u001b[0m\u001b[0;34m\u001b[0m\u001b[0m\n",
      "\u001b[0;32m/usr/lib/python3.4/urllib/request.py\u001b[0m in \u001b[0;36mhttps_open\u001b[0;34m(self, req)\u001b[0m\n\u001b[1;32m   1215\u001b[0m         \u001b[0;32mdef\u001b[0m \u001b[0mhttps_open\u001b[0m\u001b[0;34m(\u001b[0m\u001b[0mself\u001b[0m\u001b[0;34m,\u001b[0m \u001b[0mreq\u001b[0m\u001b[0;34m)\u001b[0m\u001b[0;34m:\u001b[0m\u001b[0;34m\u001b[0m\u001b[0m\n\u001b[1;32m   1216\u001b[0m             return self.do_open(http.client.HTTPSConnection, req,\n\u001b[0;32m-> 1217\u001b[0;31m                 context=self._context, check_hostname=self._check_hostname)\n\u001b[0m\u001b[1;32m   1218\u001b[0m \u001b[0;34m\u001b[0m\u001b[0m\n\u001b[1;32m   1219\u001b[0m         \u001b[0mhttps_request\u001b[0m \u001b[0;34m=\u001b[0m \u001b[0mAbstractHTTPHandler\u001b[0m\u001b[0;34m.\u001b[0m\u001b[0mdo_request_\u001b[0m\u001b[0;34m\u001b[0m\u001b[0m\n",
      "\u001b[0;32m/usr/lib/python3.4/urllib/request.py\u001b[0m in \u001b[0;36mdo_open\u001b[0;34m(self, http_class, req, **http_conn_args)\u001b[0m\n\u001b[1;32m   1175\u001b[0m             \u001b[0;32mexcept\u001b[0m \u001b[0mOSError\u001b[0m \u001b[0;32mas\u001b[0m \u001b[0merr\u001b[0m\u001b[0;34m:\u001b[0m \u001b[0;31m# timeout error\u001b[0m\u001b[0;34m\u001b[0m\u001b[0m\n\u001b[1;32m   1176\u001b[0m                 \u001b[0;32mraise\u001b[0m \u001b[0mURLError\u001b[0m\u001b[0;34m(\u001b[0m\u001b[0merr\u001b[0m\u001b[0;34m)\u001b[0m\u001b[0;34m\u001b[0m\u001b[0m\n\u001b[0;32m-> 1177\u001b[0;31m             \u001b[0mr\u001b[0m \u001b[0;34m=\u001b[0m \u001b[0mh\u001b[0m\u001b[0;34m.\u001b[0m\u001b[0mgetresponse\u001b[0m\u001b[0;34m(\u001b[0m\u001b[0;34m)\u001b[0m\u001b[0;34m\u001b[0m\u001b[0m\n\u001b[0m\u001b[1;32m   1178\u001b[0m         \u001b[0;32mexcept\u001b[0m\u001b[0;34m:\u001b[0m\u001b[0;34m\u001b[0m\u001b[0m\n\u001b[1;32m   1179\u001b[0m             \u001b[0mh\u001b[0m\u001b[0;34m.\u001b[0m\u001b[0mclose\u001b[0m\u001b[0;34m(\u001b[0m\u001b[0;34m)\u001b[0m\u001b[0;34m\u001b[0m\u001b[0m\n",
      "\u001b[0;32m/usr/lib/python3.4/http/client.py\u001b[0m in \u001b[0;36mgetresponse\u001b[0;34m(self)\u001b[0m\n\u001b[1;32m   1170\u001b[0m             \u001b[0mresponse\u001b[0m \u001b[0;34m=\u001b[0m \u001b[0mself\u001b[0m\u001b[0;34m.\u001b[0m\u001b[0mresponse_class\u001b[0m\u001b[0;34m(\u001b[0m\u001b[0mself\u001b[0m\u001b[0;34m.\u001b[0m\u001b[0msock\u001b[0m\u001b[0;34m,\u001b[0m \u001b[0mmethod\u001b[0m\u001b[0;34m=\u001b[0m\u001b[0mself\u001b[0m\u001b[0;34m.\u001b[0m\u001b[0m_method\u001b[0m\u001b[0;34m)\u001b[0m\u001b[0;34m\u001b[0m\u001b[0m\n\u001b[1;32m   1171\u001b[0m \u001b[0;34m\u001b[0m\u001b[0m\n\u001b[0;32m-> 1172\u001b[0;31m         \u001b[0mresponse\u001b[0m\u001b[0;34m.\u001b[0m\u001b[0mbegin\u001b[0m\u001b[0;34m(\u001b[0m\u001b[0;34m)\u001b[0m\u001b[0;34m\u001b[0m\u001b[0m\n\u001b[0m\u001b[1;32m   1173\u001b[0m         \u001b[0;32massert\u001b[0m \u001b[0mresponse\u001b[0m\u001b[0;34m.\u001b[0m\u001b[0mwill_close\u001b[0m \u001b[0;34m!=\u001b[0m \u001b[0m_UNKNOWN\u001b[0m\u001b[0;34m\u001b[0m\u001b[0m\n\u001b[1;32m   1174\u001b[0m         \u001b[0mself\u001b[0m\u001b[0;34m.\u001b[0m\u001b[0m__state\u001b[0m \u001b[0;34m=\u001b[0m \u001b[0m_CS_IDLE\u001b[0m\u001b[0;34m\u001b[0m\u001b[0m\n",
      "\u001b[0;32m/usr/lib/python3.4/http/client.py\u001b[0m in \u001b[0;36mbegin\u001b[0;34m(self)\u001b[0m\n\u001b[1;32m    349\u001b[0m         \u001b[0;31m# read until we get a non-100 response\u001b[0m\u001b[0;34m\u001b[0m\u001b[0;34m\u001b[0m\u001b[0m\n\u001b[1;32m    350\u001b[0m         \u001b[0;32mwhile\u001b[0m \u001b[0;32mTrue\u001b[0m\u001b[0;34m:\u001b[0m\u001b[0;34m\u001b[0m\u001b[0m\n\u001b[0;32m--> 351\u001b[0;31m             \u001b[0mversion\u001b[0m\u001b[0;34m,\u001b[0m \u001b[0mstatus\u001b[0m\u001b[0;34m,\u001b[0m \u001b[0mreason\u001b[0m \u001b[0;34m=\u001b[0m \u001b[0mself\u001b[0m\u001b[0;34m.\u001b[0m\u001b[0m_read_status\u001b[0m\u001b[0;34m(\u001b[0m\u001b[0;34m)\u001b[0m\u001b[0;34m\u001b[0m\u001b[0m\n\u001b[0m\u001b[1;32m    352\u001b[0m             \u001b[0;32mif\u001b[0m \u001b[0mstatus\u001b[0m \u001b[0;34m!=\u001b[0m \u001b[0mCONTINUE\u001b[0m\u001b[0;34m:\u001b[0m\u001b[0;34m\u001b[0m\u001b[0m\n\u001b[1;32m    353\u001b[0m                 \u001b[0;32mbreak\u001b[0m\u001b[0;34m\u001b[0m\u001b[0m\n",
      "\u001b[0;32m/usr/lib/python3.4/http/client.py\u001b[0m in \u001b[0;36m_read_status\u001b[0;34m(self)\u001b[0m\n\u001b[1;32m    311\u001b[0m \u001b[0;34m\u001b[0m\u001b[0m\n\u001b[1;32m    312\u001b[0m     \u001b[0;32mdef\u001b[0m \u001b[0m_read_status\u001b[0m\u001b[0;34m(\u001b[0m\u001b[0mself\u001b[0m\u001b[0;34m)\u001b[0m\u001b[0;34m:\u001b[0m\u001b[0;34m\u001b[0m\u001b[0m\n\u001b[0;32m--> 313\u001b[0;31m         \u001b[0mline\u001b[0m \u001b[0;34m=\u001b[0m \u001b[0mstr\u001b[0m\u001b[0;34m(\u001b[0m\u001b[0mself\u001b[0m\u001b[0;34m.\u001b[0m\u001b[0mfp\u001b[0m\u001b[0;34m.\u001b[0m\u001b[0mreadline\u001b[0m\u001b[0;34m(\u001b[0m\u001b[0m_MAXLINE\u001b[0m \u001b[0;34m+\u001b[0m \u001b[0;36m1\u001b[0m\u001b[0;34m)\u001b[0m\u001b[0;34m,\u001b[0m \u001b[0;34m\"iso-8859-1\"\u001b[0m\u001b[0;34m)\u001b[0m\u001b[0;34m\u001b[0m\u001b[0m\n\u001b[0m\u001b[1;32m    314\u001b[0m         \u001b[0;32mif\u001b[0m \u001b[0mlen\u001b[0m\u001b[0;34m(\u001b[0m\u001b[0mline\u001b[0m\u001b[0;34m)\u001b[0m \u001b[0;34m>\u001b[0m \u001b[0m_MAXLINE\u001b[0m\u001b[0;34m:\u001b[0m\u001b[0;34m\u001b[0m\u001b[0m\n\u001b[1;32m    315\u001b[0m             \u001b[0;32mraise\u001b[0m \u001b[0mLineTooLong\u001b[0m\u001b[0;34m(\u001b[0m\u001b[0;34m\"status line\"\u001b[0m\u001b[0;34m)\u001b[0m\u001b[0;34m\u001b[0m\u001b[0m\n",
      "\u001b[0;32m/usr/lib/python3.4/socket.py\u001b[0m in \u001b[0;36mreadinto\u001b[0;34m(self, b)\u001b[0m\n\u001b[1;32m    369\u001b[0m         \u001b[0;32mwhile\u001b[0m \u001b[0;32mTrue\u001b[0m\u001b[0;34m:\u001b[0m\u001b[0;34m\u001b[0m\u001b[0m\n\u001b[1;32m    370\u001b[0m             \u001b[0;32mtry\u001b[0m\u001b[0;34m:\u001b[0m\u001b[0;34m\u001b[0m\u001b[0m\n\u001b[0;32m--> 371\u001b[0;31m                 \u001b[0;32mreturn\u001b[0m \u001b[0mself\u001b[0m\u001b[0;34m.\u001b[0m\u001b[0m_sock\u001b[0m\u001b[0;34m.\u001b[0m\u001b[0mrecv_into\u001b[0m\u001b[0;34m(\u001b[0m\u001b[0mb\u001b[0m\u001b[0;34m)\u001b[0m\u001b[0;34m\u001b[0m\u001b[0m\n\u001b[0m\u001b[1;32m    372\u001b[0m             \u001b[0;32mexcept\u001b[0m \u001b[0mtimeout\u001b[0m\u001b[0;34m:\u001b[0m\u001b[0;34m\u001b[0m\u001b[0m\n\u001b[1;32m    373\u001b[0m                 \u001b[0mself\u001b[0m\u001b[0;34m.\u001b[0m\u001b[0m_timeout_occurred\u001b[0m \u001b[0;34m=\u001b[0m \u001b[0;32mTrue\u001b[0m\u001b[0;34m\u001b[0m\u001b[0m\n",
      "\u001b[0;32m/usr/lib/python3.4/ssl.py\u001b[0m in \u001b[0;36mrecv_into\u001b[0;34m(self, buffer, nbytes, flags)\u001b[0m\n\u001b[1;32m    743\u001b[0m                   \u001b[0;34m\"non-zero flags not allowed in calls to recv_into() on %s\"\u001b[0m \u001b[0;34m%\u001b[0m\u001b[0;34m\u001b[0m\u001b[0m\n\u001b[1;32m    744\u001b[0m                   self.__class__)\n\u001b[0;32m--> 745\u001b[0;31m             \u001b[0;32mreturn\u001b[0m \u001b[0mself\u001b[0m\u001b[0;34m.\u001b[0m\u001b[0mread\u001b[0m\u001b[0;34m(\u001b[0m\u001b[0mnbytes\u001b[0m\u001b[0;34m,\u001b[0m \u001b[0mbuffer\u001b[0m\u001b[0;34m)\u001b[0m\u001b[0;34m\u001b[0m\u001b[0m\n\u001b[0m\u001b[1;32m    746\u001b[0m         \u001b[0;32melse\u001b[0m\u001b[0;34m:\u001b[0m\u001b[0;34m\u001b[0m\u001b[0m\n\u001b[1;32m    747\u001b[0m             \u001b[0;32mreturn\u001b[0m \u001b[0msocket\u001b[0m\u001b[0;34m.\u001b[0m\u001b[0mrecv_into\u001b[0m\u001b[0;34m(\u001b[0m\u001b[0mself\u001b[0m\u001b[0;34m,\u001b[0m \u001b[0mbuffer\u001b[0m\u001b[0;34m,\u001b[0m \u001b[0mnbytes\u001b[0m\u001b[0;34m,\u001b[0m \u001b[0mflags\u001b[0m\u001b[0;34m)\u001b[0m\u001b[0;34m\u001b[0m\u001b[0m\n",
      "\u001b[0;32m/usr/lib/python3.4/ssl.py\u001b[0m in \u001b[0;36mread\u001b[0;34m(self, len, buffer)\u001b[0m\n\u001b[1;32m    615\u001b[0m         \u001b[0;32mtry\u001b[0m\u001b[0;34m:\u001b[0m\u001b[0;34m\u001b[0m\u001b[0m\n\u001b[1;32m    616\u001b[0m             \u001b[0;32mif\u001b[0m \u001b[0mbuffer\u001b[0m \u001b[0;32mis\u001b[0m \u001b[0;32mnot\u001b[0m \u001b[0;32mNone\u001b[0m\u001b[0;34m:\u001b[0m\u001b[0;34m\u001b[0m\u001b[0m\n\u001b[0;32m--> 617\u001b[0;31m                 \u001b[0mv\u001b[0m \u001b[0;34m=\u001b[0m \u001b[0mself\u001b[0m\u001b[0;34m.\u001b[0m\u001b[0m_sslobj\u001b[0m\u001b[0;34m.\u001b[0m\u001b[0mread\u001b[0m\u001b[0;34m(\u001b[0m\u001b[0mlen\u001b[0m\u001b[0;34m,\u001b[0m \u001b[0mbuffer\u001b[0m\u001b[0;34m)\u001b[0m\u001b[0;34m\u001b[0m\u001b[0m\n\u001b[0m\u001b[1;32m    618\u001b[0m             \u001b[0;32melse\u001b[0m\u001b[0;34m:\u001b[0m\u001b[0;34m\u001b[0m\u001b[0m\n\u001b[1;32m    619\u001b[0m                 \u001b[0mv\u001b[0m \u001b[0;34m=\u001b[0m \u001b[0mself\u001b[0m\u001b[0;34m.\u001b[0m\u001b[0m_sslobj\u001b[0m\u001b[0;34m.\u001b[0m\u001b[0mread\u001b[0m\u001b[0;34m(\u001b[0m\u001b[0mlen\u001b[0m \u001b[0;32mor\u001b[0m \u001b[0;36m1024\u001b[0m\u001b[0;34m)\u001b[0m\u001b[0;34m\u001b[0m\u001b[0m\n",
      "\u001b[0;31mKeyboardInterrupt\u001b[0m: "
     ]
    }
   ],
   "source": [
    "# test with one image\n",
    "for i in np.random.choice(leaks.index,5):\n",
    "    leak=leaks.loc[[i]]\n",
    "    leak_id = str(leak['leak_id'].values[0])\n",
    "\n",
    "    repo_date_ts = arrow.get(leak.REPO_Date.values[0]).timestamp\n",
    "    boundary = get_boundary(leak, distance=distance)\n",
    "    sentinel2_before = ee.ImageCollection(satellite)\\\n",
    "        .filterBounds(boundary)\\\n",
    "        .filterDate(933828614605,1488776737937)\n",
    "    image = ee.Image(sentinel2_before.first()).clip(boundary)\n",
    "    image.getInfo()\n",
    "    name=leak_id+'_after'\n",
    "    path,files=download_image(\n",
    "        image, \n",
    "        scale=resolution_min, \n",
    "        crs=crs_grid, \n",
    "        name=name,\n",
    "        cache_dir=Path('/tmp')\n",
    "    )\n",
    "    data = tifs2np(path,files,bands=bands)\n",
    "    print(i,[(d.shape,d.sum()) for d in data])\n",
    "    for d in data:\n",
    "        assert d.shape[0]==pixel_length, 'the downloaded image is the wrong size, tweak distance'\n",
    "        assert d.shape[1]==pixel_length\n",
    "    assert np.sum(data)!=0, 'should not be empty (make sure you are using the right bands)'"
   ]
  },
  {
   "cell_type": "code",
   "execution_count": 32,
   "metadata": {
    "ExecuteTime": {
     "end_time": "2017-03-19T09:57:37.210073Z",
     "start_time": "2017-03-19T10:19:18.119881+08:00"
    },
    "scrolled": false
   },
   "outputs": [
    {
     "data": {
      "application/vnd.jupyter.widget-view+json": {
       "model_id": "b05d71ede8a1425d8282f343a0578ae4"
      }
     },
     "metadata": {},
     "output_type": "display_data"
    },
    {
     "name": "stdout",
     "output_type": "stream",
     "text": [
      "\n"
     ]
    }
   ],
   "source": [
    "import time\n",
    "import traceback\n",
    "cached_ids = get_cached_ids()\n",
    "\n",
    "\n",
    "def get_image_for_leak(i, cached_ids=cached_ids):    \n",
    "    leak = leaks.loc[[i]]\n",
    "    repo_date_ts = arrow.get(leak.REPO_Date.values[0]).timestamp\n",
    "    \n",
    "    \n",
    "    # crappy way of recording that we tried this one\n",
    "    leak_id = leak.leak_id.values[0]\n",
    "    if leak_id in cached_ids:\n",
    "        logger.info('Skipping cached download for leak id %s ',leak_id)\n",
    "        return\n",
    "    \n",
    "    boundary = get_boundary(leak, distance=distance)\n",
    "    \n",
    "    \n",
    "    # get image day before    \n",
    "    sentinel2_before = ee.ImageCollection(satellite)\\\n",
    "        .filterBounds(boundary)\\\n",
    "        .filterDate((repo_date_ts-time_bin_delta)*1000,(repo_date_ts)*1000)\\\n",
    "        .sort('system:time_start', opt_ascending=False) # first will be latest\n",
    "    \n",
    "    results = sentinel2_before.size().getInfo()\n",
    "    if results<1:\n",
    "        logger.info('Error no results for day before %s',leak_id)\n",
    "        cached_ids = init_cache(leak_id) # so we know there where no results\n",
    "        return\n",
    "        \n",
    "    # get image day after\n",
    "    sentinel2_after = ee.ImageCollection(satellite)\\\n",
    "        .filterBounds(boundary)\\\n",
    "        .filterDate((repo_date_ts)*1000,(repo_date_ts+time_bin_delta*6)*1000)\\\n",
    "        .sort('system:time_start', opt_ascending=True) # first will be earliest\n",
    "        \n",
    "    results = sentinel2_after.size().getInfo()\n",
    "    if results<1:\n",
    "        logger.info('Error no results for day after, id %s',leak_id)\n",
    "        cached_ids = init_cache(leak_id) # so we know there where no results\n",
    "        return\n",
    "        \n",
    "    # download as save images    \n",
    "    logger.info('results for %s', leak_id)\n",
    "    image = ee.Image(sentinel2_before.first()).clip(boundary)\n",
    "    name=leak_id+'_before'\n",
    "    path,files=download_image(\n",
    "        image, \n",
    "        scale=resolution_min, \n",
    "        crs=crs_grid, \n",
    "        name=name,\n",
    "        cache_dir=cache_dir\n",
    "    )\n",
    "    # also save metadata so we can filter by date\n",
    "    with open(path.joinpath('metadata.json'), 'w') as fo:\n",
    "        metadata = dict(\n",
    "            image=image.getInfo(),\n",
    "            scale=resolution_min,\n",
    "            crs=crs_grid,\n",
    "            name=name,\n",
    "            distance=distance,\n",
    "            leak=json.loads(leak.to_json())\n",
    "        )\n",
    "        json.dump(metadata, fo)\n",
    "\n",
    "    image = ee.Image(sentinel2_after.first()).clip(boundary)\n",
    "    name=leak_id+'_after'\n",
    "    path,files=download_image(\n",
    "        image, \n",
    "        scale=resolution_min, \n",
    "        crs=crs_grid, \n",
    "        name=name,\n",
    "        cache_dir=cache_dir\n",
    "    )\n",
    "    with open(path.joinpath('metadata.json'), 'w') as fo:\n",
    "        metadata = dict(\n",
    "            image=image.getInfo(),\n",
    "            scale=resolution_min,\n",
    "            crs=crs_grid,\n",
    "            name=name,\n",
    "            distance=distance,\n",
    "            leak=json.loads(leak.to_json())\n",
    "        )\n",
    "        json.dump(metadata, fo)\n",
    "    \n",
    "    cached_ids = init_cache(leak_id) # so we know there where no results\n",
    "        \n",
    "    return\n",
    "\n",
    "# could take 27 hours\n",
    "leak_to_scrape = set(leaks.leak_id).difference(set(cached_ids))\n",
    "for i in tqdm(leak_to_scrape):\n",
    "    try:\n",
    "        get_image_for_leak(i)\n",
    "    except urllib.error.HTTPError as e:\n",
    "        print(i,e) # \"HTTP Error 429: unknown\"\n",
    "        traceback.print_stack()\n",
    "        if e.code == 429:\n",
    "            print('sleep for 13s')\n",
    "            time.sleep(13);\n",
    "    except ee.ee_exception.EEException as e:\n",
    "        print(i,e) # \"Earth Engine memory capacity exceeded.\"\n",
    "        traceback.print_stack()\n",
    "        ee.Initialize()\n",
    "    except zipfile.BadZipFile as e:\n",
    "        print(i,e) # \"File is not a zip file\"\n",
    "        traceback.print_stack()\n",
    "    except Exception as e:\n",
    "        print(i,e)\n",
    "#         raise(e)\n",
    "        # e.g. \"An internal server error has occurred (216bc442fe171620592bc53fb578bceb).\"\n",
    "        traceback.print_stack()"
   ]
  },
  {
   "cell_type": "markdown",
   "metadata": {},
   "source": [
    "# load tiffs to arrays\n",
    "\n",
    "When there are errors, e.g. no metadata.json is directory, delete the directory and go back to the scraping step\n",
    "\n",
    "TODO automate the directory deletion"
   ]
  },
  {
   "cell_type": "code",
   "execution_count": null,
   "metadata": {
    "ExecuteTime": {
     "end_time": "2017-03-16T04:26:34.774949Z",
     "start_time": "2017-03-16T12:26:34.771759+08:00"
    },
    "collapsed": true
   },
   "outputs": [],
   "source": []
  },
  {
   "cell_type": "code",
   "execution_count": 19,
   "metadata": {
    "ExecuteTime": {
     "end_time": "2017-04-26T02:39:20.354647Z",
     "start_time": "2017-04-26T10:39:20.162282+08:00"
    },
    "scrolled": true
   },
   "outputs": [
    {
     "data": {
      "application/vnd.jupyter.widget-view+json": {
       "model_id": "778d7e5350e94af5b124bcaee47af114"
      }
     },
     "metadata": {},
     "output_type": "display_data"
    },
    {
     "name": "stdout",
     "output_type": "stream",
     "text": [
      "\n"
     ]
    },
    {
     "data": {
      "text/plain": [
       "(0, 0)"
      ]
     },
     "execution_count": 19,
     "metadata": {},
     "output_type": "execute_result"
    }
   ],
   "source": [
    "# This loads it as X and y for machine learning, and also time and metadata so we can filter\n",
    "import shapely\n",
    "X = []\n",
    "y = []\n",
    "t = []\n",
    "m = []\n",
    "discarded=[]\n",
    "cdirs = [cdir for cdir in cache_dir.listdir() if ('_after_' in cdir) or ('_before_' in cdir)]\n",
    "for path in tqdm(cdirs):\n",
    "    files = [file.relpath(path) for file in path.listdir() if file.endswith('.tif')]\n",
    "    if files:\n",
    "        # check metadata\n",
    "        try:\n",
    "            metadata = json.load(open(path.joinpath('metadata.json')))\n",
    "        except (FileNotFoundError, ValueError) as e:\n",
    "            path.move(path.dirname().dirname().joinpath('.deleteme-'+str(uuid.uuid4())))\n",
    "            if '_after_' in path: # also delete the before path                \n",
    "                path_after = Path(path.replace('_after_','_before_'))\n",
    "                if path_after.isdir():\n",
    "                    path_after.move(path.dirname().dirname().joinpath('.deleteme-'+str(uuid.uuid4())))\n",
    "            logger.error('Invalid metadata.json, deleted folder %s, please rerun scraping cell to rescrape this image', path)\n",
    "            continue\n",
    "        \n",
    "        # e.g. lets filter it so \"before\" image are only 1 day before\n",
    "        if '_before_' in path.basename():\n",
    "            yy = True\n",
    "        else:\n",
    "            yy = False\n",
    "        \n",
    "        # work out time gap too\n",
    "        t1 = arrow.get(metadata['image']['properties']['system:time_end']/1000)\n",
    "        t0 = arrow.get(metadata['leak']['features'][0]['properties']['REPO_Date'])\n",
    "        td=t1-t0\n",
    "        tt = td.total_seconds()\n",
    "        \n",
    "        # load data\n",
    "        data = tifs2np(path,files,bands=bands)\n",
    "             \n",
    "        # check we don't have empty bands 1-13\n",
    "        empty_bands = np.array([d.sum() for d in data])==0\n",
    "        \n",
    "        # lets check we didn't get the edge of an image\n",
    "        bbox = np.array(metadata['image']['properties']['system:footprint']['coordinates'][0])\n",
    "        loc = metadata['leak']['features'][0]['geometry']['coordinates']\n",
    "        minx=bbox[:,0].min()\n",
    "        maxx=bbox[:,0].max()\n",
    "        miny=bbox[:,1].min()\n",
    "        maxy=bbox[:,1].max()\n",
    "        bbox_shp = shapely.geometry.box(\n",
    "            minx=minx,\n",
    "            maxx=maxx,\n",
    "            miny=miny,\n",
    "            maxy=maxy\n",
    "        )\n",
    "        loc_shp = shapely.geometry.Point(loc[0],loc[1])\n",
    "        shapely.geometry.GeometryCollection([bbox_shp, loc_shp])\n",
    "        try:\n",
    "            assert loc_shp.intersects(bbox_shp), 'leak location should be inside image'\n",
    "            assert bbox_shp.centroid.almost_equals(loc_shp, decimal=5), 'leak should be near center of image'\n",
    "            assert (np.array([d.shape for d in data])==pixel_length).all(), 'image area should be the right amount of pixels'\n",
    "            assert (maxx-minx)/(maxy-miny)<1.3, 'should be roughly square'\n",
    "            assert (maxx-minx)/(maxy-miny)>0.7, 'should be roughly square'\n",
    "            assert not empty_bands.all(), 'should not have all bands empty'\n",
    "        except Exception as exc:\n",
    "            print(path, exc)\n",
    "#             raise(exc)\n",
    "            discarded.append(path)\n",
    "        else:\n",
    "            X.append(data)\n",
    "            y.append(yy)\n",
    "            t.append(tt)\n",
    "            m.append(metadata)\n",
    "        \n",
    "\n",
    "len(X), len(discarded)"
   ]
  },
  {
   "cell_type": "code",
   "execution_count": 34,
   "metadata": {
    "ExecuteTime": {
     "end_time": "2017-03-20T00:36:53.740390Z",
     "start_time": "2017-03-20T08:36:53.540700+08:00"
    },
    "collapsed": true
   },
   "outputs": [],
   "source": [
    "# shuffle\n",
    "from sklearn.utils import shuffle\n",
    "X,y,m,t = shuffle(X,y,m,t,random_state=1337)"
   ]
  },
  {
   "cell_type": "code",
   "execution_count": 35,
   "metadata": {
    "ExecuteTime": {
     "end_time": "2017-03-20T00:39:01.122181Z",
     "start_time": "2017-03-20T08:36:53.742061+08:00"
    },
    "collapsed": true
   },
   "outputs": [],
   "source": [
    "# save using hdf5 (so keras can easily load it) and json \n",
    "import h5py\n",
    "h5file = output_dir.joinpath('data.h5')\n",
    "with h5py.File(h5file, 'w') as h5f:\n",
    "    h5f.create_dataset('X', data=X)\n",
    "    h5f.create_dataset('y', data=y)\n",
    "\n",
    "json.dump(m,open(output_dir.joinpath('data_metadata.json'),'w'))\n",
    "\n",
    "with open(output_dir.joinpath('readme.md'),'w') as fo:\n",
    "    fo. write(\"\"\"\n",
    "Files:\n",
    "- cache- cached tiff files\n",
    "- script_metadata.json - information on scraping script\n",
    "- data.h5 contains X, y, and t.\n",
    "    - X: tiff files for each band loaded into an array of shape (Leak, Bands, width, length)\n",
    "    - y: True for before the leak, False for after\n",
    "- data_metadata: array of metadata for each leak in X. Each contain info on leak, image, and image search\n",
    "    \n",
    "Loading: \n",
    "```py\n",
    "# load\n",
    "metadatas = json.load(open('data_metadata.json'))\n",
    "with h5py.File('data.h5','r') as h5f:\n",
    "    X2 = h5f['X'][:]\n",
    "    y2 = h5f['y'][:]\n",
    "    t2 = h5f['t'][:]\n",
    "y\n",
    "```\n",
    "    \"\"\")"
   ]
  },
  {
   "cell_type": "code",
   "execution_count": 36,
   "metadata": {
    "ExecuteTime": {
     "end_time": "2017-03-20T00:39:08.405089Z",
     "start_time": "2017-03-20T08:39:01.123502+08:00"
    }
   },
   "outputs": [
    {
     "data": {
      "text/plain": [
       "((8607, 5, 25, 25),\n",
       " array([False,  True,  True, ..., False,  True,  True], dtype=bool),\n",
       " array([ 11083802.003,   -181486.568,    -95632.653, ...,   1978451.457,\n",
       "           -35975.277,   -374740.941]),\n",
       " dict_keys(['leak', 'name', 'crs', 'image', 'scale', 'distance']))"
      ]
     },
     "execution_count": 36,
     "metadata": {},
     "output_type": "execute_result"
    }
   ],
   "source": [
    "# test load\n",
    "metadatas = json.load(open(output_dir.joinpath('data_metadata.json')))\n",
    "with h5py.File(output_dir.joinpath('data.h5'),'r') as h5f:\n",
    "    X2 = h5f['X'][:]\n",
    "    y2 = h5f['y'][:]\n",
    "    t2 = h5f['t'][:]\n",
    "X2.shape, y2, t2, metadatas[0].keys()"
   ]
  },
  {
   "cell_type": "code",
   "execution_count": 37,
   "metadata": {
    "ExecuteTime": {
     "end_time": "2017-03-20T00:39:08.411152Z",
     "start_time": "2017-03-20T08:39:08.407075+08:00"
    }
   },
   "outputs": [
    {
     "data": {
      "text/plain": [
       "Path('../data/downloaded_images_scraping_earth_engine_s1-all_COPERNICUS-S1_GRD')"
      ]
     },
     "execution_count": 37,
     "metadata": {},
     "output_type": "execute_result"
    }
   ],
   "source": [
    "output_dir"
   ]
  },
  {
   "cell_type": "markdown",
   "metadata": {
    "collapsed": true
   },
   "source": [
    "# NOTES"
   ]
  },
  {
   "cell_type": "markdown",
   "metadata": {},
   "source": [
    "Can I speed this up? What is the bottleneck internet or filesystem?\n",
    "\n",
    "`%prun get_image_for_leak(5)`\n",
    "```\n",
    "\n",
    "   ncalls  tottime  percall  cumtime  percall filename:lineno(function)\n",
    "       38   12.424    0.327   12.424    0.327 {method 'read' of '_ssl._SSLSocket' objects}\n",
    "        8    1.153    0.144    1.153    0.144 {method 'do_handshake' of '_ssl._SSLSocket' objects}\n",
    "        8    0.716    0.090    0.716    0.090 {built-in method getaddrinfo}\n",
    "        8    0.541    0.068    0.542    0.068 {method 'connect' of '_socket.socket' objects}\n",
    "        6    0.015    0.003    0.015    0.003 {method 'load_verify_locations' of '_ssl._SSLContext' objects}\n",
    "       78    0.005    0.000    0.005    0.000 {built-in method open}\n",
    "       36    0.002    0.000    0.013    0.000 zipfile.py:1257(_extract_member)\n",
    "        6    0.002    0.000    0.003    0.000 ssl.py:202(_dnsname_match)\n",
    "8700/2736    0.002    0.000    0.003    0.000 encoder.py:325(_iterencode_dict)\n",
    "       27    0.002    0.000    0.002    0.000 {built-in method __new__ of type object at 0x9ceec0}\n",
    "     6889    0.001    0.000    0.002    0.000 {built-in method isinstance}\n",
    "     2734    0.001    0.000    0.001    0.000 {method 'write' of '_io.TextIOWrapper' objects}\n",
    "       38    0.001    0.000    0.001    0.000 {built-in method stat}\n",
    "```\n",
    "\n",
    "\n",
    "`%prun download_image(image, scale=resolution_min,     crs=crs_grid,     name=name,    cache_dir=cache_dir)`\n",
    "```\n",
    " ncalls  tottime  percall  cumtime  percall filename:lineno(function)\n",
    "       14    4.477    0.320    4.477    0.320 {method 'read' of '_ssl._SSLSocket' objects}\n",
    "        2    0.286    0.143    0.286    0.143 {method 'do_handshake' of '_ssl._SSLSocket' objects}\n",
    "        2    0.270    0.135    0.270    0.135 {built-in method getaddrinfo}\n",
    "        2    0.134    0.067    0.135    0.067 {method 'connect' of '_socket.socket' objects}\n",
    "        1    0.002    0.002    0.002    0.002 {method 'load_verify_locations' of '_ssl._SSLContext' objects}\n",
    "       38    0.002    0.000    0.002    0.000 {built-in method open}\n",
    "       18    0.001    0.000    0.004    0.000 zipfile.py:1257(_extract_member)\n",
    "      450    0.000    0.000    0.001    0.000 posixpath.py:99(split)\n",
    "        4    0.000    0.000    0.000    0.000 {built-in method __new__ of type object at 0x9ceec0}\n",
    "       18    0.000    0.000    0.000    0.000 {built-in method stat}\n",
    "      450    0.000    0.000    0.001    0.000 path.py:382(splitpath)\n",
    "       36    0.000    0.000    0.002    0.000 path.py:452(splitall)\n",
    "      724    0.000    0.000    0.000    0.000 path.py:156(__get__)\n",
    "```"
   ]
  },
  {
   "cell_type": "code",
   "execution_count": null,
   "metadata": {
    "collapsed": true
   },
   "outputs": [],
   "source": []
  }
 ],
 "metadata": {
  "kernelspec": {
   "display_name": "Python 3 (with sys packages)",
   "language": "python",
   "name": "py3syspck"
  },
  "language_info": {
   "codemirror_mode": {
    "name": "ipython",
    "version": 3
   },
   "file_extension": ".py",
   "mimetype": "text/x-python",
   "name": "python",
   "nbconvert_exporter": "python",
   "pygments_lexer": "ipython3",
   "version": "3.4.2"
  },
  "toc": {
   "nav_menu": {
    "height": "96px",
    "width": "251px"
   },
   "navigate_menu": true,
   "number_sections": true,
   "sideBar": true,
   "threshold": 4,
   "toc_cell": false,
   "toc_section_display": "block",
   "toc_window_display": false
  }
 },
 "nbformat": 4,
 "nbformat_minor": 1
}
